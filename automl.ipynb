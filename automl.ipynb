{
 "cells": [
  {
   "cell_type": "markdown",
   "metadata": {},
   "source": [
    "# Automated ML\n",
    "\n",
    "TODO: Import Dependencies. In the cell below, import all the dependencies that you will need to complete the project."
   ]
  },
  {
   "cell_type": "code",
   "execution_count": 6,
   "metadata": {},
   "outputs": [],
   "source": [
    "from azureml.core import Workspace, Experiment\n",
    "from azureml.core.compute import ComputeTarget, AmlCompute\n",
    "from azureml.core.compute_target import ComputeTargetException\n",
    "from azureml.data.dataset_factory import TabularDatasetFactory\n",
    "import pandas as pd\n",
    "from azureml.train.automl import AutoMLConfig\n",
    "from azureml.widgets import RunDetails\n",
    "from azureml.core.model import Model\n",
    "from azureml.core.model import InferenceConfig\n",
    "from azureml.core import Workspace, Environment\n",
    "from azureml.core import Model\n",
    "from azureml.core.webservice import AciWebservice, Webservice\n",
    "import json\n",
    "import joblib"
   ]
  },
  {
   "cell_type": "code",
   "execution_count": 7,
   "metadata": {},
   "outputs": [
    {
     "name": "stdout",
     "output_type": "stream",
     "text": [
      "SDK version: 1.20.0\n"
     ]
    }
   ],
   "source": [
    "# Check core SDK version number\n",
    "print(\"SDK version:\", azureml.core.VERSION)"
   ]
  },
  {
   "cell_type": "code",
   "execution_count": 8,
   "metadata": {},
   "outputs": [
    {
     "name": "stdout",
     "output_type": "stream",
     "text": [
      "Workspace name: quick-starts-ws-136741\n",
      "Azure region: southcentralus\n",
      "Subscription id: f9d5a085-54dc-4215-9ba6-dad5d86e60a0\n",
      "Resource group: aml-quickstarts-136741\n"
     ]
    }
   ],
   "source": [
    "ws = Workspace.from_config()\n",
    "experiment = Experiment(workspace=ws, name=\"Detection\")\n",
    "\n",
    "print('Workspace name: ' + ws.name, \n",
    "      'Azure region: ' + ws.location, \n",
    "      'Subscription id: ' + ws.subscription_id, \n",
    "      'Resource group: ' + ws.resource_group, sep = '\\n')\n",
    "\n",
    "run = experiment.start_logging()"
   ]
  },
  {
   "cell_type": "code",
   "execution_count": 9,
   "metadata": {},
   "outputs": [
    {
     "name": "stdout",
     "output_type": "stream",
     "text": [
      "Found existing cluster, use it.\n",
      "Succeeded........................\n",
      "AmlCompute wait for completion finished\n",
      "\n",
      "Wait timeout has been reached\n",
      "Current provisioning state of AmlCompute is \"Succeeded\" and current node count is \"0\"\n"
     ]
    }
   ],
   "source": [
    "# TODO: Create compute cluster\n",
    "# Use vm_size = \"Standard_D2_V2\" in your provisioning configuration.\n",
    "# max_nodes should be no greater than 4.\n",
    "\n",
    "# Choose a name for your CPU cluster\n",
    "cpu_cluster_name = \"auto-ml-cluster\"\n",
    "\n",
    "# Verify that cluster does not exist already\n",
    "try:\n",
    "    cpu_cluster = ComputeTarget(workspace=ws, name=cpu_cluster_name)\n",
    "    print('Found existing cluster, use it.')\n",
    "except ComputeTargetException:\n",
    "    compute_config = AmlCompute.provisioning_configuration(vm_size='STANDARD_DS12_V2',\n",
    "                                                           max_nodes=4)\n",
    "    cpu_cluster = ComputeTarget.create(ws, cpu_cluster_name, compute_config)\n",
    "\n",
    "cpu_cluster.wait_for_completion(show_output=True, min_node_count = 1, timeout_in_minutes = 2)\n"
   ]
  },
  {
   "cell_type": "markdown",
   "metadata": {},
   "source": [
    "## Dataset\n",
    "\n",
    "### Overview\n",
    "TODO: In this markdown cell, give an overview of the dataset you are using. Also mention the task you will be performing.\n",
    "\n",
    "\n",
    "TODO: Get data. In the cell below, write code to access the data you will be using in this project. Remember that the dataset needs to be external."
   ]
  },
  {
   "cell_type": "code",
   "execution_count": 19,
   "metadata": {},
   "outputs": [
    {
     "data": {
      "text/html": [
       "<div>\n",
       "<style scoped>\n",
       "    .dataframe tbody tr th:only-of-type {\n",
       "        vertical-align: middle;\n",
       "    }\n",
       "\n",
       "    .dataframe tbody tr th {\n",
       "        vertical-align: top;\n",
       "    }\n",
       "\n",
       "    .dataframe thead th {\n",
       "        text-align: right;\n",
       "    }\n",
       "</style>\n",
       "<table border=\"1\" class=\"dataframe\">\n",
       "  <thead>\n",
       "    <tr style=\"text-align: right;\">\n",
       "      <th></th>\n",
       "      <th>Pregnancies</th>\n",
       "      <th>Glucose</th>\n",
       "      <th>BloodPressure</th>\n",
       "      <th>SkinThickness</th>\n",
       "      <th>Insulin</th>\n",
       "      <th>BMI</th>\n",
       "      <th>DiabetesPedigreeFunction</th>\n",
       "      <th>Age</th>\n",
       "      <th>Outcome</th>\n",
       "    </tr>\n",
       "  </thead>\n",
       "  <tbody>\n",
       "    <tr>\n",
       "      <th>0</th>\n",
       "      <td>6</td>\n",
       "      <td>148</td>\n",
       "      <td>72</td>\n",
       "      <td>35</td>\n",
       "      <td>0</td>\n",
       "      <td>33.6</td>\n",
       "      <td>0.627</td>\n",
       "      <td>50</td>\n",
       "      <td>1</td>\n",
       "    </tr>\n",
       "    <tr>\n",
       "      <th>1</th>\n",
       "      <td>1</td>\n",
       "      <td>85</td>\n",
       "      <td>66</td>\n",
       "      <td>29</td>\n",
       "      <td>0</td>\n",
       "      <td>26.6</td>\n",
       "      <td>0.351</td>\n",
       "      <td>31</td>\n",
       "      <td>0</td>\n",
       "    </tr>\n",
       "    <tr>\n",
       "      <th>2</th>\n",
       "      <td>8</td>\n",
       "      <td>183</td>\n",
       "      <td>64</td>\n",
       "      <td>0</td>\n",
       "      <td>0</td>\n",
       "      <td>23.3</td>\n",
       "      <td>0.672</td>\n",
       "      <td>32</td>\n",
       "      <td>1</td>\n",
       "    </tr>\n",
       "    <tr>\n",
       "      <th>3</th>\n",
       "      <td>1</td>\n",
       "      <td>89</td>\n",
       "      <td>66</td>\n",
       "      <td>23</td>\n",
       "      <td>94</td>\n",
       "      <td>28.1</td>\n",
       "      <td>0.167</td>\n",
       "      <td>21</td>\n",
       "      <td>0</td>\n",
       "    </tr>\n",
       "    <tr>\n",
       "      <th>4</th>\n",
       "      <td>0</td>\n",
       "      <td>137</td>\n",
       "      <td>40</td>\n",
       "      <td>35</td>\n",
       "      <td>168</td>\n",
       "      <td>43.1</td>\n",
       "      <td>2.288</td>\n",
       "      <td>33</td>\n",
       "      <td>1</td>\n",
       "    </tr>\n",
       "  </tbody>\n",
       "</table>\n",
       "</div>"
      ],
      "text/plain": [
       "   Pregnancies  Glucose  BloodPressure  SkinThickness  Insulin   BMI  \\\n",
       "0            6      148             72             35        0  33.6   \n",
       "1            1       85             66             29        0  26.6   \n",
       "2            8      183             64              0        0  23.3   \n",
       "3            1       89             66             23       94  28.1   \n",
       "4            0      137             40             35      168  43.1   \n",
       "\n",
       "   DiabetesPedigreeFunction  Age  Outcome  \n",
       "0                     0.627   50        1  \n",
       "1                     0.351   31        0  \n",
       "2                     0.672   32        1  \n",
       "3                     0.167   21        0  \n",
       "4                     2.288   33        1  "
      ]
     },
     "execution_count": 19,
     "metadata": {},
     "output_type": "execute_result"
    }
   ],
   "source": [
    "path = 'https://raw.githubusercontent.com/Tekhunt/ML-Project/master/diabetes.csv'\n",
    "data = TabularDatasetFactory.from_delimited_files(path = path)\n",
    "data.to_pandas_dataframe().head()"
   ]
  },
  {
   "cell_type": "code",
   "execution_count": 11,
   "metadata": {
    "gather": {
     "logged": 1598423890461
    },
    "jupyter": {
     "outputs_hidden": false,
     "source_hidden": false
    },
    "nteract": {
     "transient": {
      "deleting": false
     }
    }
   },
   "outputs": [],
   "source": [
    "   #Register Dataset in Workspace\n",
    "#dataset = dataset.register(workspace=ws,\n",
    "                                   #name=key,\n",
    "                                   #description=description_text)\n",
    "\n"
   ]
  },
  {
   "cell_type": "markdown",
   "metadata": {},
   "source": [
    "## AutoML Configuration\n",
    "\n",
    "TODO: Explain why you chose the automl settings and cofiguration you used below."
   ]
  },
  {
   "cell_type": "code",
   "execution_count": 17,
   "metadata": {
    "gather": {
     "logged": 1598429217746
    },
    "jupyter": {
     "outputs_hidden": false,
     "source_hidden": false
    },
    "nteract": {
     "transient": {
      "deleting": false
     }
    }
   },
   "outputs": [],
   "source": [
    "# TODO: Put your automl settings here\n",
    "automl_settings = {\n",
    "       \"n_cross_validations\": 3,\n",
    "       \"enable_early_stopping\": True,\n",
    "       \"experiment_timeout_minutes\" :15,\n",
    "       \"max_concurrent_iterations\": 4,\n",
    "       \"max_cores_per_iteration\": -1,\n",
    "       \"verbosity\": logging.INFO,\n",
    "   }\n",
    "\n",
    "# TODO: Puyour experiment name here\n",
    "\n",
    "\n",
    "automl_config = AutoMLConfig(\n",
    "    compute_target=cpu_cluster,\n",
    "    task='classification',\n",
    "    primary_metric= 'accuracy',\n",
    "    training_data= data,\n",
    "    label_column_name= 'Outcome',\n",
    "    n_cross_validations=5)"
   ]
  },
  {
   "cell_type": "code",
   "execution_count": 18,
   "metadata": {
    "gather": {
     "logged": 1598431107951
    },
    "jupyter": {
     "outputs_hidden": false,
     "source_hidden": false
    },
    "nteract": {
     "transient": {
      "deleting": false
     }
    }
   },
   "outputs": [
    {
     "name": "stdout",
     "output_type": "stream",
     "text": [
      "Running on remote.\n",
      "No run_configuration provided, running on auto-ml-cluster with default configuration\n",
      "Running on remote compute: auto-ml-cluster\n",
      "Parent Run ID: AutoML_5081922a-2412-4d83-a31d-77432f1c34fc\n",
      "\n",
      "Current status: FeaturesGeneration. Generating features for the dataset.\n",
      "Current status: ModelSelection. Beginning model selection.\n",
      "\n",
      "****************************************************************************************************\n",
      "DATA GUARDRAILS: \n",
      "\n",
      "TYPE:         Class balancing detection\n",
      "STATUS:       PASSED\n",
      "DESCRIPTION:  Your inputs were analyzed, and all classes are balanced in your training data.\n",
      "              Learn more about imbalanced data: https://aka.ms/AutomatedMLImbalancedData\n",
      "\n",
      "****************************************************************************************************\n",
      "\n",
      "TYPE:         Missing feature values imputation\n",
      "STATUS:       PASSED\n",
      "DESCRIPTION:  No feature missing values were detected in the training data.\n",
      "              Learn more about missing value imputation: https://aka.ms/AutomatedMLFeaturization\n",
      "\n",
      "****************************************************************************************************\n",
      "\n",
      "TYPE:         High cardinality feature detection\n",
      "STATUS:       PASSED\n",
      "DESCRIPTION:  Your inputs were analyzed, and no high cardinality features were detected.\n",
      "              Learn more about high cardinality feature handling: https://aka.ms/AutomatedMLFeaturization\n",
      "\n",
      "****************************************************************************************************\n",
      "\n",
      "****************************************************************************************************\n",
      "ITERATION: The iteration being evaluated.\n",
      "PIPELINE: A summary description of the pipeline being evaluated.\n",
      "DURATION: Time taken for the current iteration.\n",
      "METRIC: The result of computing score on the fitted pipeline.\n",
      "BEST: The best observed score thus far.\n",
      "****************************************************************************************************\n",
      "\n",
      " ITERATION   PIPELINE                                       DURATION      METRIC      BEST\n",
      "         0   MaxAbsScaler LightGBM                          0:00:50       1.0000    1.0000\n",
      "         1   MaxAbsScaler XGBoostClassifier                 0:00:48       0.9933    1.0000\n",
      "         2   MinMaxScaler RandomForest                      0:00:50       1.0000    1.0000\n",
      "         3   MinMaxScaler RandomForest                      0:00:50       0.9933    1.0000\n",
      "         4   MinMaxScaler RandomForest                      0:00:53       1.0000    1.0000\n",
      "         5   MinMaxScaler LogisticRegression                0:00:52       1.0000    1.0000\n",
      "         6   RobustScaler RandomForest                      0:00:47       0.9933    1.0000\n",
      "         7   SparseNormalizer XGBoostClassifier             0:00:48       0.8867    1.0000\n",
      "         8   SparseNormalizer XGBoostClassifier             0:00:57       0.8733    1.0000\n",
      "         9   StandardScalerWrapper LogisticRegression       0:00:42       0.9933    1.0000\n",
      "        10   StandardScalerWrapper LightGBM                 0:00:52       0.9867    1.0000\n",
      "        11   RobustScaler LightGBM                          0:01:00       0.9933    1.0000\n",
      "        12   StandardScalerWrapper XGBoostClassifier        0:00:46       0.9800    1.0000\n",
      "        13   SparseNormalizer LightGBM                      0:00:53       0.8933    1.0000\n",
      "        14   SparseNormalizer XGBoostClassifier             0:00:54       0.9133    1.0000\n",
      "        15   StandardScalerWrapper XGBoostClassifier        0:00:52       0.9933    1.0000\n",
      "        16   SparseNormalizer XGBoostClassifier             0:00:57       0.9000    1.0000\n",
      "        17   MaxAbsScaler ExtremeRandomTrees                0:00:58       0.9933    1.0000\n",
      "        18   SparseNormalizer XGBoostClassifier             0:00:52       0.9200    1.0000\n",
      "        19   StandardScalerWrapper ExtremeRandomTrees       0:00:58       0.9867    1.0000\n",
      "        20   StandardScalerWrapper LightGBM                 0:00:49       0.9867    1.0000\n",
      "        21   MinMaxScaler ExtremeRandomTrees                0:00:55       0.9933    1.0000\n",
      "        22   SparseNormalizer XGBoostClassifier             0:00:50       0.9067    1.0000\n",
      "        23   MaxAbsScaler LightGBM                          0:00:54       1.0000    1.0000\n",
      "        24   SparseNormalizer XGBoostClassifier             0:01:09       0.9067    1.0000\n",
      "        25   MinMaxScaler LightGBM                          0:00:51       0.9867    1.0000\n",
      "        26   MaxAbsScaler RandomForest                      0:01:05       1.0000    1.0000\n",
      "        27   StandardScalerWrapper RandomForest             0:00:58       0.9933    1.0000\n",
      "        28   SparseNormalizer RandomForest                  0:00:48       0.9067    1.0000\n",
      "        29   StandardScalerWrapper LightGBM                 0:00:55       1.0000    1.0000\n",
      "        30    VotingEnsemble                                0:01:29       1.0000    1.0000\n",
      "        31    StackEnsemble                                 0:01:27       1.0000    1.0000\n"
     ]
    },
    {
     "data": {
      "text/plain": [
       "{'runId': 'AutoML_5081922a-2412-4d83-a31d-77432f1c34fc',\n",
       " 'target': 'auto-ml-cluster',\n",
       " 'status': 'Completed',\n",
       " 'startTimeUtc': '2021-01-31T17:25:45.796901Z',\n",
       " 'endTimeUtc': '2021-01-31T18:11:15.987692Z',\n",
       " 'properties': {'num_iterations': '1000',\n",
       "  'training_type': 'TrainFull',\n",
       "  'acquisition_function': 'EI',\n",
       "  'primary_metric': 'accuracy',\n",
       "  'train_split': '0',\n",
       "  'acquisition_parameter': '0',\n",
       "  'num_cross_validation': '5',\n",
       "  'target': 'auto-ml-cluster',\n",
       "  'AMLSettingsJsonString': '{\"path\":null,\"name\":\"Detection\",\"subscription_id\":\"f9d5a085-54dc-4215-9ba6-dad5d86e60a0\",\"resource_group\":\"aml-quickstarts-136741\",\"workspace_name\":\"quick-starts-ws-136741\",\"region\":\"southcentralus\",\"compute_target\":\"auto-ml-cluster\",\"spark_service\":null,\"azure_service\":\"remote\",\"many_models\":false,\"pipeline_fetch_max_batch_size\":1,\"iterations\":1000,\"primary_metric\":\"accuracy\",\"task_type\":\"classification\",\"data_script\":null,\"validation_size\":0.0,\"n_cross_validations\":5,\"y_min\":null,\"y_max\":null,\"num_classes\":null,\"featurization\":\"auto\",\"_ignore_package_version_incompatibilities\":false,\"is_timeseries\":false,\"max_cores_per_iteration\":1,\"max_concurrent_iterations\":1,\"iteration_timeout_minutes\":null,\"mem_in_mb\":null,\"enforce_time_on_windows\":false,\"experiment_timeout_minutes\":8640,\"experiment_exit_score\":null,\"whitelist_models\":null,\"blacklist_algos\":[\"TensorFlowLinearClassifier\",\"TensorFlowDNN\"],\"supported_models\":[\"RandomForest\",\"GradientBoosting\",\"SVM\",\"TensorFlowLinearClassifier\",\"DecisionTree\",\"LightGBM\",\"XGBoostClassifier\",\"SGD\",\"AveragedPerceptronClassifier\",\"BernoulliNaiveBayes\",\"ExtremeRandomTrees\",\"TensorFlowDNN\",\"LogisticRegression\",\"KNN\",\"LinearSVM\",\"MultinomialNaiveBayes\"],\"auto_blacklist\":true,\"blacklist_samples_reached\":false,\"exclude_nan_labels\":true,\"verbosity\":20,\"_debug_log\":\"azureml_automl.log\",\"show_warnings\":false,\"model_explainability\":true,\"service_url\":null,\"sdk_url\":null,\"sdk_packages\":null,\"enable_onnx_compatible_models\":false,\"enable_split_onnx_featurizer_estimator_models\":false,\"vm_type\":\"STANDARD_DS12_V2\",\"telemetry_verbosity\":20,\"send_telemetry\":true,\"enable_dnn\":false,\"scenario\":\"SDK-1.13.0\",\"environment_label\":null,\"force_text_dnn\":false,\"enable_feature_sweeping\":true,\"enable_early_stopping\":true,\"early_stopping_n_iters\":10,\"metrics\":null,\"enable_ensembling\":true,\"enable_stack_ensembling\":true,\"ensemble_iterations\":15,\"enable_tf\":false,\"enable_subsampling\":null,\"subsample_seed\":null,\"enable_nimbusml\":false,\"enable_streaming\":false,\"force_streaming\":false,\"track_child_runs\":true,\"allowed_private_models\":[],\"label_column_name\":\"species\",\"weight_column_name\":null,\"cv_split_column_names\":null,\"enable_local_managed\":false,\"_local_managed_run_id\":null,\"cost_mode\":1,\"lag_length\":0,\"metric_operation\":\"maximize\",\"preprocess\":true}',\n",
       "  'DataPrepJsonString': '{\\\\\"training_data\\\\\": \\\\\"{\\\\\\\\\\\\\"blocks\\\\\\\\\\\\\": [{\\\\\\\\\\\\\"id\\\\\\\\\\\\\": \\\\\\\\\\\\\"e9b5c94a-f37c-4a07-b49b-11bc7b5db379\\\\\\\\\\\\\", \\\\\\\\\\\\\"type\\\\\\\\\\\\\": \\\\\\\\\\\\\"Microsoft.DPrep.GetFilesBlock\\\\\\\\\\\\\", \\\\\\\\\\\\\"arguments\\\\\\\\\\\\\": {\\\\\\\\\\\\\"isArchive\\\\\\\\\\\\\": false, \\\\\\\\\\\\\"path\\\\\\\\\\\\\": {\\\\\\\\\\\\\"target\\\\\\\\\\\\\": 4, \\\\\\\\\\\\\"resourceDetails\\\\\\\\\\\\\": [{\\\\\\\\\\\\\"path\\\\\\\\\\\\\": \\\\\\\\\\\\\"https://sololearn.com/uploads/files/iris.csv\\\\\\\\\\\\\"}]}}, \\\\\\\\\\\\\"localData\\\\\\\\\\\\\": {}, \\\\\\\\\\\\\"isEnabled\\\\\\\\\\\\\": true, \\\\\\\\\\\\\"name\\\\\\\\\\\\\": null, \\\\\\\\\\\\\"annotation\\\\\\\\\\\\\": null}, {\\\\\\\\\\\\\"id\\\\\\\\\\\\\": \\\\\\\\\\\\\"d881c3e1-4e12-4805-befc-8ad359e740ee\\\\\\\\\\\\\", \\\\\\\\\\\\\"type\\\\\\\\\\\\\": \\\\\\\\\\\\\"Microsoft.DPrep.ParseDelimitedBlock\\\\\\\\\\\\\", \\\\\\\\\\\\\"arguments\\\\\\\\\\\\\": {\\\\\\\\\\\\\"columnHeadersMode\\\\\\\\\\\\\": 3, \\\\\\\\\\\\\"fileEncoding\\\\\\\\\\\\\": 0, \\\\\\\\\\\\\"handleQuotedLineBreaks\\\\\\\\\\\\\": false, \\\\\\\\\\\\\"preview\\\\\\\\\\\\\": false, \\\\\\\\\\\\\"separator\\\\\\\\\\\\\": \\\\\\\\\\\\\",\\\\\\\\\\\\\", \\\\\\\\\\\\\"skipRows\\\\\\\\\\\\\": 0, \\\\\\\\\\\\\"skipRowsMode\\\\\\\\\\\\\": 0}, \\\\\\\\\\\\\"localData\\\\\\\\\\\\\": {}, \\\\\\\\\\\\\"isEnabled\\\\\\\\\\\\\": true, \\\\\\\\\\\\\"name\\\\\\\\\\\\\": null, \\\\\\\\\\\\\"annotation\\\\\\\\\\\\\": null}, {\\\\\\\\\\\\\"id\\\\\\\\\\\\\": \\\\\\\\\\\\\"f914268d-4f89-4063-a495-7f30302dff66\\\\\\\\\\\\\", \\\\\\\\\\\\\"type\\\\\\\\\\\\\": \\\\\\\\\\\\\"Microsoft.DPrep.DropColumnsBlock\\\\\\\\\\\\\", \\\\\\\\\\\\\"arguments\\\\\\\\\\\\\": {\\\\\\\\\\\\\"columns\\\\\\\\\\\\\": {\\\\\\\\\\\\\"type\\\\\\\\\\\\\": 0, \\\\\\\\\\\\\"details\\\\\\\\\\\\\": {\\\\\\\\\\\\\"selectedColumns\\\\\\\\\\\\\": [\\\\\\\\\\\\\"Path\\\\\\\\\\\\\"]}}}, \\\\\\\\\\\\\"localData\\\\\\\\\\\\\": {}, \\\\\\\\\\\\\"isEnabled\\\\\\\\\\\\\": true, \\\\\\\\\\\\\"name\\\\\\\\\\\\\": null, \\\\\\\\\\\\\"annotation\\\\\\\\\\\\\": null}, {\\\\\\\\\\\\\"id\\\\\\\\\\\\\": \\\\\\\\\\\\\"74783010-9a4d-4046-82b4-04c59510d476\\\\\\\\\\\\\", \\\\\\\\\\\\\"type\\\\\\\\\\\\\": \\\\\\\\\\\\\"Microsoft.DPrep.SetColumnTypesBlock\\\\\\\\\\\\\", \\\\\\\\\\\\\"arguments\\\\\\\\\\\\\": {\\\\\\\\\\\\\"columnConversion\\\\\\\\\\\\\": [{\\\\\\\\\\\\\"column\\\\\\\\\\\\\": {\\\\\\\\\\\\\"type\\\\\\\\\\\\\": 2, \\\\\\\\\\\\\"details\\\\\\\\\\\\\": {\\\\\\\\\\\\\"selectedColumn\\\\\\\\\\\\\": \\\\\\\\\\\\\"id\\\\\\\\\\\\\"}}, \\\\\\\\\\\\\"typeProperty\\\\\\\\\\\\\": 2}, {\\\\\\\\\\\\\"column\\\\\\\\\\\\\": {\\\\\\\\\\\\\"type\\\\\\\\\\\\\": 2, \\\\\\\\\\\\\"details\\\\\\\\\\\\\": {\\\\\\\\\\\\\"selectedColumn\\\\\\\\\\\\\": \\\\\\\\\\\\\"sepal_len\\\\\\\\\\\\\"}}, \\\\\\\\\\\\\"typeProperty\\\\\\\\\\\\\": 3}, {\\\\\\\\\\\\\"column\\\\\\\\\\\\\": {\\\\\\\\\\\\\"type\\\\\\\\\\\\\": 2, \\\\\\\\\\\\\"details\\\\\\\\\\\\\": {\\\\\\\\\\\\\"selectedColumn\\\\\\\\\\\\\": \\\\\\\\\\\\\"sepal_wd\\\\\\\\\\\\\"}}, \\\\\\\\\\\\\"typeProperty\\\\\\\\\\\\\": 3}, {\\\\\\\\\\\\\"column\\\\\\\\\\\\\": {\\\\\\\\\\\\\"type\\\\\\\\\\\\\": 2, \\\\\\\\\\\\\"details\\\\\\\\\\\\\": {\\\\\\\\\\\\\"selectedColumn\\\\\\\\\\\\\": \\\\\\\\\\\\\"petal_len\\\\\\\\\\\\\"}}, \\\\\\\\\\\\\"typeProperty\\\\\\\\\\\\\": 3}, {\\\\\\\\\\\\\"column\\\\\\\\\\\\\": {\\\\\\\\\\\\\"type\\\\\\\\\\\\\": 2, \\\\\\\\\\\\\"details\\\\\\\\\\\\\": {\\\\\\\\\\\\\"selectedColumn\\\\\\\\\\\\\": \\\\\\\\\\\\\"petal_wd\\\\\\\\\\\\\"}}, \\\\\\\\\\\\\"typeProperty\\\\\\\\\\\\\": 3}, {\\\\\\\\\\\\\"column\\\\\\\\\\\\\": {\\\\\\\\\\\\\"type\\\\\\\\\\\\\": 2, \\\\\\\\\\\\\"details\\\\\\\\\\\\\": {\\\\\\\\\\\\\"selectedColumn\\\\\\\\\\\\\": \\\\\\\\\\\\\"species\\\\\\\\\\\\\"}}, \\\\\\\\\\\\\"typeProperty\\\\\\\\\\\\\": 0}]}, \\\\\\\\\\\\\"localData\\\\\\\\\\\\\": {}, \\\\\\\\\\\\\"isEnabled\\\\\\\\\\\\\": true, \\\\\\\\\\\\\"name\\\\\\\\\\\\\": null, \\\\\\\\\\\\\"annotation\\\\\\\\\\\\\": null}], \\\\\\\\\\\\\"inspectors\\\\\\\\\\\\\": [], \\\\\\\\\\\\\"meta\\\\\\\\\\\\\": {\\\\\\\\\\\\\"savedDatasetId\\\\\\\\\\\\\": \\\\\\\\\\\\\"31a4fd9c-4ce3-4224-ad01-4008bb119462\\\\\\\\\\\\\", \\\\\\\\\\\\\"datasetType\\\\\\\\\\\\\": \\\\\\\\\\\\\"tabular\\\\\\\\\\\\\", \\\\\\\\\\\\\"subscriptionId\\\\\\\\\\\\\": \\\\\\\\\\\\\"f9d5a085-54dc-4215-9ba6-dad5d86e60a0\\\\\\\\\\\\\", \\\\\\\\\\\\\"workspaceId\\\\\\\\\\\\\": \\\\\\\\\\\\\"e55bdae6-1b45-46a6-8aac-fb1821da1add\\\\\\\\\\\\\", \\\\\\\\\\\\\"workspaceLocation\\\\\\\\\\\\\": \\\\\\\\\\\\\"southcentralus\\\\\\\\\\\\\"}}\\\\\", \\\\\"activities\\\\\": 0}',\n",
       "  'EnableSubsampling': None,\n",
       "  'runTemplate': 'AutoML',\n",
       "  'azureml.runsource': 'automl',\n",
       "  'display_task_type': 'classification',\n",
       "  'dependencies_versions': '{\"azureml-widgets\": \"1.20.0\", \"azureml-train\": \"1.20.0\", \"azureml-train-restclients-hyperdrive\": \"1.20.0\", \"azureml-train-core\": \"1.20.0\", \"azureml-train-automl\": \"1.20.0\", \"azureml-train-automl-runtime\": \"1.20.0\", \"azureml-train-automl-client\": \"1.20.0\", \"azureml-tensorboard\": \"1.20.0\", \"azureml-telemetry\": \"1.20.0\", \"azureml-sdk\": \"1.20.0\", \"azureml-samples\": \"0+unknown\", \"azureml-pipeline\": \"1.20.0\", \"azureml-pipeline-steps\": \"1.20.0\", \"azureml-pipeline-core\": \"1.20.0\", \"azureml-opendatasets\": \"1.20.0\", \"azureml-model-management-sdk\": \"1.0.1b6.post1\", \"azureml-mlflow\": \"1.20.0.post1\", \"azureml-interpret\": \"1.20.0\", \"azureml-explain-model\": \"1.20.0\", \"azureml-defaults\": \"1.20.0\", \"azureml-dataset-runtime\": \"1.20.0\", \"azureml-dataprep\": \"2.7.3\", \"azureml-dataprep-rslex\": \"1.5.0\", \"azureml-dataprep-native\": \"27.0.0\", \"azureml-datadrift\": \"1.20.0\", \"azureml-core\": \"1.20.0\", \"azureml-contrib-services\": \"1.20.0\", \"azureml-contrib-server\": \"1.20.0\", \"azureml-contrib-reinforcementlearning\": \"1.20.0\", \"azureml-contrib-pipeline-steps\": \"1.20.0\", \"azureml-contrib-notebook\": \"1.20.0\", \"azureml-contrib-interpret\": \"1.20.0\", \"azureml-contrib-gbdt\": \"1.20.0\", \"azureml-contrib-fairness\": \"1.20.0\", \"azureml-contrib-dataset\": \"1.20.0\", \"azureml-cli-common\": \"1.20.0\", \"azureml-automl-runtime\": \"1.20.0\", \"azureml-automl-core\": \"1.20.0\", \"azureml-accel-models\": \"1.20.0\"}',\n",
       "  '_aml_system_scenario_identification': 'Remote.Parent',\n",
       "  'ClientType': 'SDK',\n",
       "  'environment_cpu_name': 'AzureML-AutoML',\n",
       "  'environment_cpu_label': 'prod',\n",
       "  'environment_gpu_name': 'AzureML-AutoML-GPU',\n",
       "  'environment_gpu_label': 'prod',\n",
       "  'root_attribution': 'automl',\n",
       "  'attribution': 'AutoML',\n",
       "  'Orchestrator': 'AutoML',\n",
       "  'CancelUri': 'https://southcentralus.experiments.azureml.net/jasmine/v1.0/subscriptions/f9d5a085-54dc-4215-9ba6-dad5d86e60a0/resourceGroups/aml-quickstarts-136741/providers/Microsoft.MachineLearningServices/workspaces/quick-starts-ws-136741/experimentids/9d24801e-f2be-4c2b-bbb8-0877cb348478/cancel/AutoML_5081922a-2412-4d83-a31d-77432f1c34fc',\n",
       "  'ClientSdkVersion': '1.20.0.post1',\n",
       "  'snapshotId': '00000000-0000-0000-0000-000000000000',\n",
       "  'SetupRunId': 'AutoML_5081922a-2412-4d83-a31d-77432f1c34fc_setup',\n",
       "  'SetupRunContainerId': 'dcid.AutoML_5081922a-2412-4d83-a31d-77432f1c34fc_setup',\n",
       "  'FeaturizationRunJsonPath': 'featurizer_container.json',\n",
       "  'FeaturizationRunId': 'AutoML_5081922a-2412-4d83-a31d-77432f1c34fc_featurize',\n",
       "  'ProblemInfoJsonString': '{\"dataset_num_categorical\": 0, \"is_sparse\": false, \"subsampling\": false, \"dataset_classes\": 3, \"dataset_features\": 5, \"dataset_samples\": 150, \"single_frequency_class_detected\": false}',\n",
       "  'ModelExplainRunId': 'AutoML_5081922a-2412-4d83-a31d-77432f1c34fc_ModelExplain'},\n",
       " 'inputDatasets': [{'dataset': {'id': '31a4fd9c-4ce3-4224-ad01-4008bb119462'}, 'consumptionDetails': {'type': 'RunInput', 'inputName': 'training_data', 'mechanism': 'Direct'}}],\n",
       " 'outputDatasets': [],\n",
       " 'logFiles': {},\n",
       " 'submittedBy': 'ODL_User 136741'}"
      ]
     },
     "execution_count": 18,
     "metadata": {},
     "output_type": "execute_result"
    }
   ],
   "source": [
    "# TODo your experiment name here\n",
    "#remote_run = experiment.submit(automl_config)\n",
    "\n",
    "remote_run = experiment.submit(automl_config, show_output=True)\n",
    "remote_run.wait_for_completion()"
   ]
  },
  {
   "cell_type": "markdown",
   "metadata": {},
   "source": [
    "## Run Details\n",
    "\n",
    "OPTIONAL: Write about the different models trained and their performance. Why do you think some models did better than others?\n",
    "\n",
    "TODO: In the cell below, use the `RunDetails` widget to show the different experiments."
   ]
  },
  {
   "cell_type": "code",
   "execution_count": 20,
   "metadata": {},
   "outputs": [
    {
     "data": {
      "application/vnd.jupyter.widget-view+json": {
       "model_id": "1a71c582e3de47f09bbb3447ce2fbc60",
       "version_major": 2,
       "version_minor": 0
      },
      "text/plain": [
       "_AutoMLWidget(widget_settings={'childWidgetDisplay': 'popup', 'send_telemetry': False, 'log_level': 'INFO', 's…"
      ]
     },
     "metadata": {},
     "output_type": "display_data"
    },
    {
     "data": {
      "application/aml.mini.widget.v1": "{\"status\": \"Completed\", \"workbench_run_details_uri\": \"https://ml.azure.com/experiments/Detection/runs/AutoML_5081922a-2412-4d83-a31d-77432f1c34fc?wsid=/subscriptions/f9d5a085-54dc-4215-9ba6-dad5d86e60a0/resourcegroups/aml-quickstarts-136741/workspaces/quick-starts-ws-136741\", \"run_id\": \"AutoML_5081922a-2412-4d83-a31d-77432f1c34fc\", \"run_properties\": {\"run_id\": \"AutoML_5081922a-2412-4d83-a31d-77432f1c34fc\", \"created_utc\": \"2021-01-31T17:25:26.071247Z\", \"properties\": {\"num_iterations\": \"1000\", \"training_type\": \"TrainFull\", \"acquisition_function\": \"EI\", \"primary_metric\": \"accuracy\", \"train_split\": \"0\", \"acquisition_parameter\": \"0\", \"num_cross_validation\": \"5\", \"target\": \"auto-ml-cluster\", \"AMLSettingsJsonString\": \"{\\\"path\\\":null,\\\"name\\\":\\\"Detection\\\",\\\"subscription_id\\\":\\\"f9d5a085-54dc-4215-9ba6-dad5d86e60a0\\\",\\\"resource_group\\\":\\\"aml-quickstarts-136741\\\",\\\"workspace_name\\\":\\\"quick-starts-ws-136741\\\",\\\"region\\\":\\\"southcentralus\\\",\\\"compute_target\\\":\\\"auto-ml-cluster\\\",\\\"spark_service\\\":null,\\\"azure_service\\\":\\\"remote\\\",\\\"many_models\\\":false,\\\"pipeline_fetch_max_batch_size\\\":1,\\\"iterations\\\":1000,\\\"primary_metric\\\":\\\"accuracy\\\",\\\"task_type\\\":\\\"classification\\\",\\\"data_script\\\":null,\\\"validation_size\\\":0.0,\\\"n_cross_validations\\\":5,\\\"y_min\\\":null,\\\"y_max\\\":null,\\\"num_classes\\\":null,\\\"featurization\\\":\\\"auto\\\",\\\"_ignore_package_version_incompatibilities\\\":false,\\\"is_timeseries\\\":false,\\\"max_cores_per_iteration\\\":1,\\\"max_concurrent_iterations\\\":1,\\\"iteration_timeout_minutes\\\":null,\\\"mem_in_mb\\\":null,\\\"enforce_time_on_windows\\\":false,\\\"experiment_timeout_minutes\\\":8640,\\\"experiment_exit_score\\\":null,\\\"whitelist_models\\\":null,\\\"blacklist_algos\\\":[\\\"TensorFlowLinearClassifier\\\",\\\"TensorFlowDNN\\\"],\\\"supported_models\\\":[\\\"RandomForest\\\",\\\"GradientBoosting\\\",\\\"SVM\\\",\\\"TensorFlowLinearClassifier\\\",\\\"DecisionTree\\\",\\\"LightGBM\\\",\\\"XGBoostClassifier\\\",\\\"SGD\\\",\\\"AveragedPerceptronClassifier\\\",\\\"BernoulliNaiveBayes\\\",\\\"ExtremeRandomTrees\\\",\\\"TensorFlowDNN\\\",\\\"LogisticRegression\\\",\\\"KNN\\\",\\\"LinearSVM\\\",\\\"MultinomialNaiveBayes\\\"],\\\"auto_blacklist\\\":true,\\\"blacklist_samples_reached\\\":false,\\\"exclude_nan_labels\\\":true,\\\"verbosity\\\":20,\\\"_debug_log\\\":\\\"azureml_automl.log\\\",\\\"show_warnings\\\":false,\\\"model_explainability\\\":true,\\\"service_url\\\":null,\\\"sdk_url\\\":null,\\\"sdk_packages\\\":null,\\\"enable_onnx_compatible_models\\\":false,\\\"enable_split_onnx_featurizer_estimator_models\\\":false,\\\"vm_type\\\":\\\"STANDARD_DS12_V2\\\",\\\"telemetry_verbosity\\\":20,\\\"send_telemetry\\\":true,\\\"enable_dnn\\\":false,\\\"scenario\\\":\\\"SDK-1.13.0\\\",\\\"environment_label\\\":null,\\\"force_text_dnn\\\":false,\\\"enable_feature_sweeping\\\":true,\\\"enable_early_stopping\\\":true,\\\"early_stopping_n_iters\\\":10,\\\"metrics\\\":null,\\\"enable_ensembling\\\":true,\\\"enable_stack_ensembling\\\":true,\\\"ensemble_iterations\\\":15,\\\"enable_tf\\\":false,\\\"enable_subsampling\\\":null,\\\"subsample_seed\\\":null,\\\"enable_nimbusml\\\":false,\\\"enable_streaming\\\":false,\\\"force_streaming\\\":false,\\\"track_child_runs\\\":true,\\\"allowed_private_models\\\":[],\\\"label_column_name\\\":\\\"species\\\",\\\"weight_column_name\\\":null,\\\"cv_split_column_names\\\":null,\\\"enable_local_managed\\\":false,\\\"_local_managed_run_id\\\":null,\\\"cost_mode\\\":1,\\\"lag_length\\\":0,\\\"metric_operation\\\":\\\"maximize\\\",\\\"preprocess\\\":true}\", \"DataPrepJsonString\": \"{\\\\\\\"training_data\\\\\\\": \\\\\\\"{\\\\\\\\\\\\\\\"blocks\\\\\\\\\\\\\\\": [{\\\\\\\\\\\\\\\"id\\\\\\\\\\\\\\\": \\\\\\\\\\\\\\\"e9b5c94a-f37c-4a07-b49b-11bc7b5db379\\\\\\\\\\\\\\\", \\\\\\\\\\\\\\\"type\\\\\\\\\\\\\\\": \\\\\\\\\\\\\\\"Microsoft.DPrep.GetFilesBlock\\\\\\\\\\\\\\\", \\\\\\\\\\\\\\\"arguments\\\\\\\\\\\\\\\": {\\\\\\\\\\\\\\\"isArchive\\\\\\\\\\\\\\\": false, \\\\\\\\\\\\\\\"path\\\\\\\\\\\\\\\": {\\\\\\\\\\\\\\\"target\\\\\\\\\\\\\\\": 4, \\\\\\\\\\\\\\\"resourceDetails\\\\\\\\\\\\\\\": [{\\\\\\\\\\\\\\\"path\\\\\\\\\\\\\\\": \\\\\\\\\\\\\\\"https://sololearn.com/uploads/files/iris.csv\\\\\\\\\\\\\\\"}]}}, \\\\\\\\\\\\\\\"localData\\\\\\\\\\\\\\\": {}, \\\\\\\\\\\\\\\"isEnabled\\\\\\\\\\\\\\\": true, \\\\\\\\\\\\\\\"name\\\\\\\\\\\\\\\": null, \\\\\\\\\\\\\\\"annotation\\\\\\\\\\\\\\\": null}, {\\\\\\\\\\\\\\\"id\\\\\\\\\\\\\\\": \\\\\\\\\\\\\\\"d881c3e1-4e12-4805-befc-8ad359e740ee\\\\\\\\\\\\\\\", \\\\\\\\\\\\\\\"type\\\\\\\\\\\\\\\": \\\\\\\\\\\\\\\"Microsoft.DPrep.ParseDelimitedBlock\\\\\\\\\\\\\\\", \\\\\\\\\\\\\\\"arguments\\\\\\\\\\\\\\\": {\\\\\\\\\\\\\\\"columnHeadersMode\\\\\\\\\\\\\\\": 3, \\\\\\\\\\\\\\\"fileEncoding\\\\\\\\\\\\\\\": 0, \\\\\\\\\\\\\\\"handleQuotedLineBreaks\\\\\\\\\\\\\\\": false, \\\\\\\\\\\\\\\"preview\\\\\\\\\\\\\\\": false, \\\\\\\\\\\\\\\"separator\\\\\\\\\\\\\\\": \\\\\\\\\\\\\\\",\\\\\\\\\\\\\\\", \\\\\\\\\\\\\\\"skipRows\\\\\\\\\\\\\\\": 0, \\\\\\\\\\\\\\\"skipRowsMode\\\\\\\\\\\\\\\": 0}, \\\\\\\\\\\\\\\"localData\\\\\\\\\\\\\\\": {}, \\\\\\\\\\\\\\\"isEnabled\\\\\\\\\\\\\\\": true, \\\\\\\\\\\\\\\"name\\\\\\\\\\\\\\\": null, \\\\\\\\\\\\\\\"annotation\\\\\\\\\\\\\\\": null}, {\\\\\\\\\\\\\\\"id\\\\\\\\\\\\\\\": \\\\\\\\\\\\\\\"f914268d-4f89-4063-a495-7f30302dff66\\\\\\\\\\\\\\\", \\\\\\\\\\\\\\\"type\\\\\\\\\\\\\\\": \\\\\\\\\\\\\\\"Microsoft.DPrep.DropColumnsBlock\\\\\\\\\\\\\\\", \\\\\\\\\\\\\\\"arguments\\\\\\\\\\\\\\\": {\\\\\\\\\\\\\\\"columns\\\\\\\\\\\\\\\": {\\\\\\\\\\\\\\\"type\\\\\\\\\\\\\\\": 0, \\\\\\\\\\\\\\\"details\\\\\\\\\\\\\\\": {\\\\\\\\\\\\\\\"selectedColumns\\\\\\\\\\\\\\\": [\\\\\\\\\\\\\\\"Path\\\\\\\\\\\\\\\"]}}}, \\\\\\\\\\\\\\\"localData\\\\\\\\\\\\\\\": {}, \\\\\\\\\\\\\\\"isEnabled\\\\\\\\\\\\\\\": true, \\\\\\\\\\\\\\\"name\\\\\\\\\\\\\\\": null, \\\\\\\\\\\\\\\"annotation\\\\\\\\\\\\\\\": null}, {\\\\\\\\\\\\\\\"id\\\\\\\\\\\\\\\": \\\\\\\\\\\\\\\"74783010-9a4d-4046-82b4-04c59510d476\\\\\\\\\\\\\\\", \\\\\\\\\\\\\\\"type\\\\\\\\\\\\\\\": \\\\\\\\\\\\\\\"Microsoft.DPrep.SetColumnTypesBlock\\\\\\\\\\\\\\\", \\\\\\\\\\\\\\\"arguments\\\\\\\\\\\\\\\": {\\\\\\\\\\\\\\\"columnConversion\\\\\\\\\\\\\\\": [{\\\\\\\\\\\\\\\"column\\\\\\\\\\\\\\\": {\\\\\\\\\\\\\\\"type\\\\\\\\\\\\\\\": 2, \\\\\\\\\\\\\\\"details\\\\\\\\\\\\\\\": {\\\\\\\\\\\\\\\"selectedColumn\\\\\\\\\\\\\\\": \\\\\\\\\\\\\\\"id\\\\\\\\\\\\\\\"}}, \\\\\\\\\\\\\\\"typeProperty\\\\\\\\\\\\\\\": 2}, {\\\\\\\\\\\\\\\"column\\\\\\\\\\\\\\\": {\\\\\\\\\\\\\\\"type\\\\\\\\\\\\\\\": 2, \\\\\\\\\\\\\\\"details\\\\\\\\\\\\\\\": {\\\\\\\\\\\\\\\"selectedColumn\\\\\\\\\\\\\\\": \\\\\\\\\\\\\\\"sepal_len\\\\\\\\\\\\\\\"}}, \\\\\\\\\\\\\\\"typeProperty\\\\\\\\\\\\\\\": 3}, {\\\\\\\\\\\\\\\"column\\\\\\\\\\\\\\\": {\\\\\\\\\\\\\\\"type\\\\\\\\\\\\\\\": 2, \\\\\\\\\\\\\\\"details\\\\\\\\\\\\\\\": {\\\\\\\\\\\\\\\"selectedColumn\\\\\\\\\\\\\\\": \\\\\\\\\\\\\\\"sepal_wd\\\\\\\\\\\\\\\"}}, \\\\\\\\\\\\\\\"typeProperty\\\\\\\\\\\\\\\": 3}, {\\\\\\\\\\\\\\\"column\\\\\\\\\\\\\\\": {\\\\\\\\\\\\\\\"type\\\\\\\\\\\\\\\": 2, \\\\\\\\\\\\\\\"details\\\\\\\\\\\\\\\": {\\\\\\\\\\\\\\\"selectedColumn\\\\\\\\\\\\\\\": \\\\\\\\\\\\\\\"petal_len\\\\\\\\\\\\\\\"}}, \\\\\\\\\\\\\\\"typeProperty\\\\\\\\\\\\\\\": 3}, {\\\\\\\\\\\\\\\"column\\\\\\\\\\\\\\\": {\\\\\\\\\\\\\\\"type\\\\\\\\\\\\\\\": 2, \\\\\\\\\\\\\\\"details\\\\\\\\\\\\\\\": {\\\\\\\\\\\\\\\"selectedColumn\\\\\\\\\\\\\\\": \\\\\\\\\\\\\\\"petal_wd\\\\\\\\\\\\\\\"}}, \\\\\\\\\\\\\\\"typeProperty\\\\\\\\\\\\\\\": 3}, {\\\\\\\\\\\\\\\"column\\\\\\\\\\\\\\\": {\\\\\\\\\\\\\\\"type\\\\\\\\\\\\\\\": 2, \\\\\\\\\\\\\\\"details\\\\\\\\\\\\\\\": {\\\\\\\\\\\\\\\"selectedColumn\\\\\\\\\\\\\\\": \\\\\\\\\\\\\\\"species\\\\\\\\\\\\\\\"}}, \\\\\\\\\\\\\\\"typeProperty\\\\\\\\\\\\\\\": 0}]}, \\\\\\\\\\\\\\\"localData\\\\\\\\\\\\\\\": {}, \\\\\\\\\\\\\\\"isEnabled\\\\\\\\\\\\\\\": true, \\\\\\\\\\\\\\\"name\\\\\\\\\\\\\\\": null, \\\\\\\\\\\\\\\"annotation\\\\\\\\\\\\\\\": null}], \\\\\\\\\\\\\\\"inspectors\\\\\\\\\\\\\\\": [], \\\\\\\\\\\\\\\"meta\\\\\\\\\\\\\\\": {\\\\\\\\\\\\\\\"savedDatasetId\\\\\\\\\\\\\\\": \\\\\\\\\\\\\\\"31a4fd9c-4ce3-4224-ad01-4008bb119462\\\\\\\\\\\\\\\", \\\\\\\\\\\\\\\"datasetType\\\\\\\\\\\\\\\": \\\\\\\\\\\\\\\"tabular\\\\\\\\\\\\\\\", \\\\\\\\\\\\\\\"subscriptionId\\\\\\\\\\\\\\\": \\\\\\\\\\\\\\\"f9d5a085-54dc-4215-9ba6-dad5d86e60a0\\\\\\\\\\\\\\\", \\\\\\\\\\\\\\\"workspaceId\\\\\\\\\\\\\\\": \\\\\\\\\\\\\\\"e55bdae6-1b45-46a6-8aac-fb1821da1add\\\\\\\\\\\\\\\", \\\\\\\\\\\\\\\"workspaceLocation\\\\\\\\\\\\\\\": \\\\\\\\\\\\\\\"southcentralus\\\\\\\\\\\\\\\"}}\\\\\\\", \\\\\\\"activities\\\\\\\": 0}\", \"EnableSubsampling\": null, \"runTemplate\": \"AutoML\", \"azureml.runsource\": \"automl\", \"display_task_type\": \"classification\", \"dependencies_versions\": \"{\\\"azureml-widgets\\\": \\\"1.20.0\\\", \\\"azureml-train\\\": \\\"1.20.0\\\", \\\"azureml-train-restclients-hyperdrive\\\": \\\"1.20.0\\\", \\\"azureml-train-core\\\": \\\"1.20.0\\\", \\\"azureml-train-automl\\\": \\\"1.20.0\\\", \\\"azureml-train-automl-runtime\\\": \\\"1.20.0\\\", \\\"azureml-train-automl-client\\\": \\\"1.20.0\\\", \\\"azureml-tensorboard\\\": \\\"1.20.0\\\", \\\"azureml-telemetry\\\": \\\"1.20.0\\\", \\\"azureml-sdk\\\": \\\"1.20.0\\\", \\\"azureml-samples\\\": \\\"0+unknown\\\", \\\"azureml-pipeline\\\": \\\"1.20.0\\\", \\\"azureml-pipeline-steps\\\": \\\"1.20.0\\\", \\\"azureml-pipeline-core\\\": \\\"1.20.0\\\", \\\"azureml-opendatasets\\\": \\\"1.20.0\\\", \\\"azureml-model-management-sdk\\\": \\\"1.0.1b6.post1\\\", \\\"azureml-mlflow\\\": \\\"1.20.0.post1\\\", \\\"azureml-interpret\\\": \\\"1.20.0\\\", \\\"azureml-explain-model\\\": \\\"1.20.0\\\", \\\"azureml-defaults\\\": \\\"1.20.0\\\", \\\"azureml-dataset-runtime\\\": \\\"1.20.0\\\", \\\"azureml-dataprep\\\": \\\"2.7.3\\\", \\\"azureml-dataprep-rslex\\\": \\\"1.5.0\\\", \\\"azureml-dataprep-native\\\": \\\"27.0.0\\\", \\\"azureml-datadrift\\\": \\\"1.20.0\\\", \\\"azureml-core\\\": \\\"1.20.0\\\", \\\"azureml-contrib-services\\\": \\\"1.20.0\\\", \\\"azureml-contrib-server\\\": \\\"1.20.0\\\", \\\"azureml-contrib-reinforcementlearning\\\": \\\"1.20.0\\\", \\\"azureml-contrib-pipeline-steps\\\": \\\"1.20.0\\\", \\\"azureml-contrib-notebook\\\": \\\"1.20.0\\\", \\\"azureml-contrib-interpret\\\": \\\"1.20.0\\\", \\\"azureml-contrib-gbdt\\\": \\\"1.20.0\\\", \\\"azureml-contrib-fairness\\\": \\\"1.20.0\\\", \\\"azureml-contrib-dataset\\\": \\\"1.20.0\\\", \\\"azureml-cli-common\\\": \\\"1.20.0\\\", \\\"azureml-automl-runtime\\\": \\\"1.20.0\\\", \\\"azureml-automl-core\\\": \\\"1.20.0\\\", \\\"azureml-accel-models\\\": \\\"1.20.0\\\"}\", \"_aml_system_scenario_identification\": \"Remote.Parent\", \"ClientType\": \"SDK\", \"environment_cpu_name\": \"AzureML-AutoML\", \"environment_cpu_label\": \"prod\", \"environment_gpu_name\": \"AzureML-AutoML-GPU\", \"environment_gpu_label\": \"prod\", \"root_attribution\": \"automl\", \"attribution\": \"AutoML\", \"Orchestrator\": \"AutoML\", \"CancelUri\": \"https://southcentralus.experiments.azureml.net/jasmine/v1.0/subscriptions/f9d5a085-54dc-4215-9ba6-dad5d86e60a0/resourceGroups/aml-quickstarts-136741/providers/Microsoft.MachineLearningServices/workspaces/quick-starts-ws-136741/experimentids/9d24801e-f2be-4c2b-bbb8-0877cb348478/cancel/AutoML_5081922a-2412-4d83-a31d-77432f1c34fc\", \"ClientSdkVersion\": \"1.20.0.post1\", \"snapshotId\": \"00000000-0000-0000-0000-000000000000\", \"SetupRunId\": \"AutoML_5081922a-2412-4d83-a31d-77432f1c34fc_setup\", \"SetupRunContainerId\": \"dcid.AutoML_5081922a-2412-4d83-a31d-77432f1c34fc_setup\", \"FeaturizationRunJsonPath\": \"featurizer_container.json\", \"FeaturizationRunId\": \"AutoML_5081922a-2412-4d83-a31d-77432f1c34fc_featurize\", \"ProblemInfoJsonString\": \"{\\\"dataset_num_categorical\\\": 0, \\\"is_sparse\\\": false, \\\"subsampling\\\": false, \\\"dataset_classes\\\": 3, \\\"dataset_features\\\": 5, \\\"dataset_samples\\\": 150, \\\"single_frequency_class_detected\\\": false}\", \"ModelExplainRunId\": \"AutoML_5081922a-2412-4d83-a31d-77432f1c34fc_ModelExplain\"}, \"tags\": {\"model_explain_run\": \"best_run\", \"_aml_system_azureml.automlComponent\": \"AutoML\", \"pipeline_id\": \"\", \"score\": \"\", \"predicted_cost\": \"\", \"fit_time\": \"\", \"training_percent\": \"\", \"iteration\": \"\", \"run_preprocessor\": \"\", \"run_algorithm\": \"\", \"dynamic_whitelisting_iterations\": \"<25>;\", \"automl_best_child_run_id\": \"AutoML_5081922a-2412-4d83-a31d-77432f1c34fc_29\", \"model_explain_best_run_child_id\": \"AutoML_5081922a-2412-4d83-a31d-77432f1c34fc_29\"}, \"end_time_utc\": \"2021-01-31T18:11:15.987692Z\", \"status\": \"Completed\", \"log_files\": {}, \"log_groups\": [], \"run_duration\": \"0:45:49\"}, \"child_runs\": [{\"run_id\": \"AutoML_5081922a-2412-4d83-a31d-77432f1c34fc_0\", \"run_number\": 7, \"metric\": null, \"status\": \"Completed\", \"run_type\": \"azureml.scriptrun\", \"training_percent\": \"100\", \"start_time\": \"2021-01-31T17:33:25.650299Z\", \"end_time\": \"2021-01-31T17:34:15.592217Z\", \"created_time\": \"2021-01-31T17:33:10.361113Z\", \"created_time_dt\": \"2021-01-31T17:33:10.361113Z\", \"duration\": \"0:01:05\", \"iteration\": \"0\", \"goal\": \"accuracy_max\", \"run_name\": \"MaxAbsScaler, LightGBM\", \"run_properties\": \"copy=True\", \"primary_metric\": 1.0, \"best_metric\": 1.0}, {\"run_id\": \"AutoML_5081922a-2412-4d83-a31d-77432f1c34fc_1\", \"run_number\": 8, \"metric\": null, \"status\": \"Completed\", \"run_type\": \"azureml.scriptrun\", \"training_percent\": \"100\", \"start_time\": \"2021-01-31T17:34:28.969479Z\", \"end_time\": \"2021-01-31T17:35:17.456625Z\", \"created_time\": \"2021-01-31T17:34:17.962191Z\", \"created_time_dt\": \"2021-01-31T17:34:17.962191Z\", \"duration\": \"0:00:59\", \"iteration\": \"1\", \"goal\": \"accuracy_max\", \"run_name\": \"MaxAbsScaler, XGBoostClassifier\", \"run_properties\": \"copy=True\", \"primary_metric\": 0.99333333, \"best_metric\": 1.0}, {\"run_id\": \"AutoML_5081922a-2412-4d83-a31d-77432f1c34fc_2\", \"run_number\": 9, \"metric\": null, \"status\": \"Completed\", \"run_type\": \"azureml.scriptrun\", \"training_percent\": \"100\", \"start_time\": \"2021-01-31T17:35:36.836173Z\", \"end_time\": \"2021-01-31T17:36:27.007986Z\", \"created_time\": \"2021-01-31T17:35:20.145182Z\", \"created_time_dt\": \"2021-01-31T17:35:20.145182Z\", \"duration\": \"0:01:06\", \"iteration\": \"2\", \"goal\": \"accuracy_max\", \"run_name\": \"MinMaxScaler, RandomForest\", \"run_properties\": \"copy=True, feature_range=(0, 1\", \"primary_metric\": 1.0, \"best_metric\": 1.0}, {\"run_id\": \"AutoML_5081922a-2412-4d83-a31d-77432f1c34fc_3\", \"run_number\": 10, \"metric\": null, \"status\": \"Completed\", \"run_type\": \"azureml.scriptrun\", \"training_percent\": \"100\", \"start_time\": \"2021-01-31T17:36:43.908483Z\", \"end_time\": \"2021-01-31T17:37:34.188975Z\", \"created_time\": \"2021-01-31T17:36:30.099194Z\", \"created_time_dt\": \"2021-01-31T17:36:30.099194Z\", \"duration\": \"0:01:04\", \"iteration\": \"3\", \"goal\": \"accuracy_max\", \"run_name\": \"MinMaxScaler, RandomForest\", \"run_properties\": \"copy=True, feature_range=(0, 1\", \"primary_metric\": 0.99333333, \"best_metric\": 1.0}, {\"run_id\": \"AutoML_5081922a-2412-4d83-a31d-77432f1c34fc_4\", \"run_number\": 11, \"metric\": null, \"status\": \"Completed\", \"run_type\": \"azureml.scriptrun\", \"training_percent\": \"100\", \"start_time\": \"2021-01-31T17:37:49.324181Z\", \"end_time\": \"2021-01-31T17:38:42.63403Z\", \"created_time\": \"2021-01-31T17:37:36.207391Z\", \"created_time_dt\": \"2021-01-31T17:37:36.207391Z\", \"duration\": \"0:01:06\", \"iteration\": \"4\", \"goal\": \"accuracy_max\", \"run_name\": \"MinMaxScaler, RandomForest\", \"run_properties\": \"copy=True, feature_range=(0, 1\", \"primary_metric\": 1.0, \"best_metric\": 1.0}, {\"run_id\": \"AutoML_5081922a-2412-4d83-a31d-77432f1c34fc_5\", \"run_number\": 12, \"metric\": null, \"status\": \"Completed\", \"run_type\": \"azureml.scriptrun\", \"training_percent\": \"100\", \"start_time\": \"2021-01-31T17:39:02.025072Z\", \"end_time\": \"2021-01-31T17:39:54.333352Z\", \"created_time\": \"2021-01-31T17:38:46.30755Z\", \"created_time_dt\": \"2021-01-31T17:38:46.30755Z\", \"duration\": \"0:01:08\", \"iteration\": \"5\", \"goal\": \"accuracy_max\", \"run_name\": \"MinMaxScaler, LogisticRegression\", \"run_properties\": \"copy=True, feature_range=(0, 1\", \"primary_metric\": 1.0, \"best_metric\": 1.0}, {\"run_id\": \"AutoML_5081922a-2412-4d83-a31d-77432f1c34fc_6\", \"run_number\": 13, \"metric\": null, \"status\": \"Completed\", \"run_type\": \"azureml.scriptrun\", \"training_percent\": \"100\", \"start_time\": \"2021-01-31T17:40:10.578707Z\", \"end_time\": \"2021-01-31T17:40:57.418059Z\", \"created_time\": \"2021-01-31T17:39:58.139799Z\", \"created_time_dt\": \"2021-01-31T17:39:58.139799Z\", \"duration\": \"0:00:59\", \"iteration\": \"6\", \"goal\": \"accuracy_max\", \"run_name\": \"RobustScaler, RandomForest\", \"run_properties\": \"copy=True, quantile_range=[10, 90], with_centering=True,\\n             with_scaling=True\", \"primary_metric\": 0.99333333, \"best_metric\": 1.0}, {\"run_id\": \"AutoML_5081922a-2412-4d83-a31d-77432f1c34fc_7\", \"run_number\": 14, \"metric\": null, \"status\": \"Completed\", \"run_type\": \"azureml.scriptrun\", \"training_percent\": \"100\", \"start_time\": \"2021-01-31T17:41:14.510186Z\", \"end_time\": \"2021-01-31T17:42:02.287447Z\", \"created_time\": \"2021-01-31T17:41:00.089585Z\", \"created_time_dt\": \"2021-01-31T17:41:00.089585Z\", \"duration\": \"0:01:02\", \"iteration\": \"7\", \"goal\": \"accuracy_max\", \"run_name\": \"SparseNormalizer, XGBoostClassifier\", \"run_properties\": \"<azureml.automl.runtime.shared.model_wrappers.SparseNormalizer object at 0x7f4829f85f98\", \"primary_metric\": 0.88666667, \"best_metric\": 1.0}, {\"run_id\": \"AutoML_5081922a-2412-4d83-a31d-77432f1c34fc_8\", \"run_number\": 15, \"metric\": null, \"status\": \"Completed\", \"run_type\": \"azureml.scriptrun\", \"training_percent\": \"100\", \"start_time\": \"2021-01-31T17:42:19.848405Z\", \"end_time\": \"2021-01-31T17:43:16.96984Z\", \"created_time\": \"2021-01-31T17:42:05.325771Z\", \"created_time_dt\": \"2021-01-31T17:42:05.325771Z\", \"duration\": \"0:01:11\", \"iteration\": \"8\", \"goal\": \"accuracy_max\", \"run_name\": \"SparseNormalizer, XGBoostClassifier\", \"run_properties\": \"<azureml.automl.runtime.shared.model_wrappers.SparseNormalizer object at 0x7f84120b67f0\", \"primary_metric\": 0.87333333, \"best_metric\": 1.0}, {\"run_id\": \"AutoML_5081922a-2412-4d83-a31d-77432f1c34fc_9\", \"run_number\": 16, \"metric\": null, \"status\": \"Completed\", \"run_type\": \"azureml.scriptrun\", \"training_percent\": \"100\", \"start_time\": \"2021-01-31T17:43:30.498455Z\", \"end_time\": \"2021-01-31T17:44:12.572961Z\", \"created_time\": \"2021-01-31T17:43:20.025193Z\", \"created_time_dt\": \"2021-01-31T17:43:20.025193Z\", \"duration\": \"0:00:52\", \"iteration\": \"9\", \"goal\": \"accuracy_max\", \"run_name\": \"StandardScalerWrapper, LogisticRegression\", \"run_properties\": \"<azureml.automl.runtime.shared.model_wrappers.StandardScalerWrapper object at 0x7fdfc166fe48\", \"primary_metric\": 0.99333333, \"best_metric\": 1.0}, {\"run_id\": \"AutoML_5081922a-2412-4d83-a31d-77432f1c34fc_10\", \"run_number\": 17, \"metric\": null, \"status\": \"Completed\", \"run_type\": \"azureml.scriptrun\", \"training_percent\": \"100\", \"start_time\": \"2021-01-31T17:44:28.058613Z\", \"end_time\": \"2021-01-31T17:45:20.172291Z\", \"created_time\": \"2021-01-31T17:44:14.837614Z\", \"created_time_dt\": \"2021-01-31T17:44:14.837614Z\", \"duration\": \"0:01:05\", \"iteration\": \"10\", \"goal\": \"accuracy_max\", \"run_name\": \"StandardScalerWrapper, LightGBM\", \"run_properties\": \"<azureml.automl.runtime.shared.model_wrappers.StandardScalerWrapper object at 0x7f68f6891a58\", \"primary_metric\": 0.98666667, \"best_metric\": 1.0}, {\"run_id\": \"AutoML_5081922a-2412-4d83-a31d-77432f1c34fc_11\", \"run_number\": 18, \"metric\": null, \"status\": \"Completed\", \"run_type\": \"azureml.scriptrun\", \"training_percent\": \"100\", \"start_time\": \"2021-01-31T17:45:37.89369Z\", \"end_time\": \"2021-01-31T17:46:37.691558Z\", \"created_time\": \"2021-01-31T17:45:23.037473Z\", \"created_time_dt\": \"2021-01-31T17:45:23.037473Z\", \"duration\": \"0:01:14\", \"iteration\": \"11\", \"goal\": \"accuracy_max\", \"run_name\": \"RobustScaler, LightGBM\", \"run_properties\": \"copy=True, quantile_range=[25, 75], with_centering=False,\\n             with_scaling=True\", \"primary_metric\": 0.99333333, \"best_metric\": 1.0}, {\"run_id\": \"AutoML_5081922a-2412-4d83-a31d-77432f1c34fc_12\", \"run_number\": 19, \"metric\": null, \"status\": \"Completed\", \"run_type\": \"azureml.scriptrun\", \"training_percent\": \"100\", \"start_time\": \"2021-01-31T17:46:50.647297Z\", \"end_time\": \"2021-01-31T17:47:37.016627Z\", \"created_time\": \"2021-01-31T17:46:39.719115Z\", \"created_time_dt\": \"2021-01-31T17:46:39.719115Z\", \"duration\": \"0:00:57\", \"iteration\": \"12\", \"goal\": \"accuracy_max\", \"run_name\": \"StandardScalerWrapper, XGBoostClassifier\", \"run_properties\": \"<azureml.automl.runtime.shared.model_wrappers.StandardScalerWrapper object at 0x7f161dea1978\", \"primary_metric\": 0.98, \"best_metric\": 1.0}, {\"run_id\": \"AutoML_5081922a-2412-4d83-a31d-77432f1c34fc_13\", \"run_number\": 20, \"metric\": null, \"status\": \"Completed\", \"run_type\": \"azureml.scriptrun\", \"training_percent\": \"100\", \"start_time\": \"2021-01-31T17:47:51.92765Z\", \"end_time\": \"2021-01-31T17:48:44.995919Z\", \"created_time\": \"2021-01-31T17:47:38.936122Z\", \"created_time_dt\": \"2021-01-31T17:47:38.936122Z\", \"duration\": \"0:01:06\", \"iteration\": \"13\", \"goal\": \"accuracy_max\", \"run_name\": \"SparseNormalizer, LightGBM\", \"run_properties\": \"<azureml.automl.runtime.shared.model_wrappers.SparseNormalizer object at 0x7f836e3e3898\", \"primary_metric\": 0.89333333, \"best_metric\": 1.0}, {\"run_id\": \"AutoML_5081922a-2412-4d83-a31d-77432f1c34fc_14\", \"run_number\": 21, \"metric\": null, \"status\": \"Completed\", \"run_type\": \"azureml.scriptrun\", \"training_percent\": \"100\", \"start_time\": \"2021-01-31T17:49:03.617562Z\", \"end_time\": \"2021-01-31T17:49:57.616555Z\", \"created_time\": \"2021-01-31T17:48:49.890049Z\", \"created_time_dt\": \"2021-01-31T17:48:49.890049Z\", \"duration\": \"0:01:07\", \"iteration\": \"14\", \"goal\": \"accuracy_max\", \"run_name\": \"SparseNormalizer, XGBoostClassifier\", \"run_properties\": \"<azureml.automl.runtime.shared.model_wrappers.SparseNormalizer object at 0x7ff41a7ea0b8\", \"primary_metric\": 0.91333333, \"best_metric\": 1.0}, {\"run_id\": \"AutoML_5081922a-2412-4d83-a31d-77432f1c34fc_15\", \"run_number\": 22, \"metric\": null, \"status\": \"Completed\", \"run_type\": \"azureml.scriptrun\", \"training_percent\": \"100\", \"start_time\": \"2021-01-31T17:50:14.396983Z\", \"end_time\": \"2021-01-31T17:51:06.648182Z\", \"created_time\": \"2021-01-31T17:50:01.153177Z\", \"created_time_dt\": \"2021-01-31T17:50:01.153177Z\", \"duration\": \"0:01:05\", \"iteration\": \"15\", \"goal\": \"accuracy_max\", \"run_name\": \"StandardScalerWrapper, XGBoostClassifier\", \"run_properties\": \"<azureml.automl.runtime.shared.model_wrappers.StandardScalerWrapper object at 0x7f9414dfb898\", \"primary_metric\": 0.99333333, \"best_metric\": 1.0}, {\"run_id\": \"AutoML_5081922a-2412-4d83-a31d-77432f1c34fc_16\", \"run_number\": 23, \"metric\": null, \"status\": \"Completed\", \"run_type\": \"azureml.scriptrun\", \"training_percent\": \"100\", \"start_time\": \"2021-01-31T17:51:19.901963Z\", \"end_time\": \"2021-01-31T17:52:17.150144Z\", \"created_time\": \"2021-01-31T17:51:09.127287Z\", \"created_time_dt\": \"2021-01-31T17:51:09.127287Z\", \"duration\": \"0:01:08\", \"iteration\": \"16\", \"goal\": \"accuracy_max\", \"run_name\": \"SparseNormalizer, XGBoostClassifier\", \"run_properties\": \"<azureml.automl.runtime.shared.model_wrappers.SparseNormalizer object at 0x7f3f9e34eb00\", \"primary_metric\": 0.9, \"best_metric\": 1.0}, {\"run_id\": \"AutoML_5081922a-2412-4d83-a31d-77432f1c34fc_17\", \"run_number\": 24, \"metric\": null, \"status\": \"Completed\", \"run_type\": \"azureml.scriptrun\", \"training_percent\": \"100\", \"start_time\": \"2021-01-31T17:52:36.150682Z\", \"end_time\": \"2021-01-31T17:53:33.94773Z\", \"created_time\": \"2021-01-31T17:52:20.535584Z\", \"created_time_dt\": \"2021-01-31T17:52:20.535584Z\", \"duration\": \"0:01:13\", \"iteration\": \"17\", \"goal\": \"accuracy_max\", \"run_name\": \"MaxAbsScaler, ExtremeRandomTrees\", \"run_properties\": \"copy=True\", \"primary_metric\": 0.99333333, \"best_metric\": 1.0}, {\"run_id\": \"AutoML_5081922a-2412-4d83-a31d-77432f1c34fc_18\", \"run_number\": 25, \"metric\": null, \"status\": \"Completed\", \"run_type\": \"azureml.scriptrun\", \"training_percent\": \"100\", \"start_time\": \"2021-01-31T17:53:48.395322Z\", \"end_time\": \"2021-01-31T17:54:40.50604Z\", \"created_time\": \"2021-01-31T17:53:35.732276Z\", \"created_time_dt\": \"2021-01-31T17:53:35.732276Z\", \"duration\": \"0:01:04\", \"iteration\": \"18\", \"goal\": \"accuracy_max\", \"run_name\": \"SparseNormalizer, XGBoostClassifier\", \"run_properties\": \"<azureml.automl.runtime.shared.model_wrappers.SparseNormalizer object at 0x7f1de06935f8\", \"primary_metric\": 0.92, \"best_metric\": 1.0}, {\"run_id\": \"AutoML_5081922a-2412-4d83-a31d-77432f1c34fc_19\", \"run_number\": 26, \"metric\": null, \"status\": \"Completed\", \"run_type\": \"azureml.scriptrun\", \"training_percent\": \"100\", \"start_time\": \"2021-01-31T17:54:56.465227Z\", \"end_time\": \"2021-01-31T17:55:54.176064Z\", \"created_time\": \"2021-01-31T17:54:42.349498Z\", \"created_time_dt\": \"2021-01-31T17:54:42.349498Z\", \"duration\": \"0:01:11\", \"iteration\": \"19\", \"goal\": \"accuracy_max\", \"run_name\": \"StandardScalerWrapper, ExtremeRandomTrees\", \"run_properties\": \"<azureml.automl.runtime.shared.model_wrappers.StandardScalerWrapper object at 0x7f7724028b00\", \"primary_metric\": 0.98666667, \"best_metric\": 1.0}, {\"run_id\": \"AutoML_5081922a-2412-4d83-a31d-77432f1c34fc_20\", \"run_number\": 27, \"metric\": null, \"status\": \"Completed\", \"run_type\": \"azureml.scriptrun\", \"training_percent\": \"100\", \"start_time\": \"2021-01-31T17:56:10.044538Z\", \"end_time\": \"2021-01-31T17:56:58.887935Z\", \"created_time\": \"2021-01-31T17:55:56.022983Z\", \"created_time_dt\": \"2021-01-31T17:55:56.022983Z\", \"duration\": \"0:01:02\", \"iteration\": \"20\", \"goal\": \"accuracy_max\", \"run_name\": \"StandardScalerWrapper, LightGBM\", \"run_properties\": \"<azureml.automl.runtime.shared.model_wrappers.StandardScalerWrapper object at 0x7fd4d308c048\", \"primary_metric\": 0.98666667, \"best_metric\": 1.0}, {\"run_id\": \"AutoML_5081922a-2412-4d83-a31d-77432f1c34fc_21\", \"run_number\": 28, \"metric\": null, \"status\": \"Completed\", \"run_type\": \"azureml.scriptrun\", \"training_percent\": \"100\", \"start_time\": \"2021-01-31T17:57:15.914671Z\", \"end_time\": \"2021-01-31T17:58:11.137061Z\", \"created_time\": \"2021-01-31T17:57:00.467202Z\", \"created_time_dt\": \"2021-01-31T17:57:00.467202Z\", \"duration\": \"0:01:10\", \"iteration\": \"21\", \"goal\": \"accuracy_max\", \"run_name\": \"MinMaxScaler, ExtremeRandomTrees\", \"run_properties\": \"copy=True, feature_range=(0, 1\", \"primary_metric\": 0.99333333, \"best_metric\": 1.0}, {\"run_id\": \"AutoML_5081922a-2412-4d83-a31d-77432f1c34fc_22\", \"run_number\": 29, \"metric\": null, \"status\": \"Completed\", \"run_type\": \"azureml.scriptrun\", \"training_percent\": \"100\", \"start_time\": \"2021-01-31T17:58:30.190806Z\", \"end_time\": \"2021-01-31T17:59:20.310509Z\", \"created_time\": \"2021-01-31T17:58:14.022887Z\", \"created_time_dt\": \"2021-01-31T17:58:14.022887Z\", \"duration\": \"0:01:06\", \"iteration\": \"22\", \"goal\": \"accuracy_max\", \"run_name\": \"SparseNormalizer, XGBoostClassifier\", \"run_properties\": \"<azureml.automl.runtime.shared.model_wrappers.SparseNormalizer object at 0x7fab104ba940\", \"primary_metric\": 0.90666667, \"best_metric\": 1.0}, {\"run_id\": \"AutoML_5081922a-2412-4d83-a31d-77432f1c34fc_23\", \"run_number\": 30, \"metric\": null, \"status\": \"Completed\", \"run_type\": \"azureml.scriptrun\", \"training_percent\": \"100\", \"start_time\": \"2021-01-31T17:59:33.124262Z\", \"end_time\": \"2021-01-31T18:00:27.355457Z\", \"created_time\": \"2021-01-31T17:59:22.000623Z\", \"created_time_dt\": \"2021-01-31T17:59:22.000623Z\", \"duration\": \"0:01:05\", \"iteration\": \"23\", \"goal\": \"accuracy_max\", \"run_name\": \"MaxAbsScaler, LightGBM\", \"run_properties\": \"copy=True\", \"primary_metric\": 1.0, \"best_metric\": 1.0}, {\"run_id\": \"AutoML_5081922a-2412-4d83-a31d-77432f1c34fc_24\", \"run_number\": 31, \"metric\": null, \"status\": \"Completed\", \"run_type\": \"azureml.scriptrun\", \"training_percent\": \"100\", \"start_time\": \"2021-01-31T18:00:43.576632Z\", \"end_time\": \"2021-01-31T18:01:52.70035Z\", \"created_time\": \"2021-01-31T18:00:29.072778Z\", \"created_time_dt\": \"2021-01-31T18:00:29.072778Z\", \"duration\": \"0:01:23\", \"iteration\": \"24\", \"goal\": \"accuracy_max\", \"run_name\": \"SparseNormalizer, XGBoostClassifier\", \"run_properties\": \"<azureml.automl.runtime.shared.model_wrappers.SparseNormalizer object at 0x7fcc7ab64fd0\", \"primary_metric\": 0.90666667, \"best_metric\": 1.0}, {\"run_id\": \"AutoML_5081922a-2412-4d83-a31d-77432f1c34fc_25\", \"run_number\": 32, \"metric\": null, \"status\": \"Completed\", \"run_type\": \"azureml.scriptrun\", \"training_percent\": \"100\", \"start_time\": \"2021-01-31T18:02:09.011436Z\", \"end_time\": \"2021-01-31T18:02:59.79748Z\", \"created_time\": \"2021-01-31T18:01:56.969999Z\", \"created_time_dt\": \"2021-01-31T18:01:56.969999Z\", \"duration\": \"0:01:02\", \"iteration\": \"25\", \"goal\": \"accuracy_max\", \"run_name\": \"MinMaxScaler, LightGBM\", \"run_properties\": \"copy=True, feature_range=(0, 1\", \"primary_metric\": 0.98666667, \"best_metric\": 1.0}, {\"run_id\": \"AutoML_5081922a-2412-4d83-a31d-77432f1c34fc_26\", \"run_number\": 33, \"metric\": null, \"status\": \"Completed\", \"run_type\": \"azureml.scriptrun\", \"training_percent\": \"100\", \"start_time\": \"2021-01-31T18:03:15.424067Z\", \"end_time\": \"2021-01-31T18:04:20.254027Z\", \"created_time\": \"2021-01-31T18:03:02.301182Z\", \"created_time_dt\": \"2021-01-31T18:03:02.301182Z\", \"duration\": \"0:01:17\", \"iteration\": \"26\", \"goal\": \"accuracy_max\", \"run_name\": \"MaxAbsScaler, RandomForest\", \"run_properties\": \"copy=True\", \"primary_metric\": 1.0, \"best_metric\": 1.0}, {\"run_id\": \"AutoML_5081922a-2412-4d83-a31d-77432f1c34fc_27\", \"run_number\": 34, \"metric\": null, \"status\": \"Completed\", \"run_type\": \"azureml.scriptrun\", \"training_percent\": \"100\", \"start_time\": \"2021-01-31T18:04:35.282117Z\", \"end_time\": \"2021-01-31T18:05:33.745649Z\", \"created_time\": \"2021-01-31T18:04:23.034807Z\", \"created_time_dt\": \"2021-01-31T18:04:23.034807Z\", \"duration\": \"0:01:10\", \"iteration\": \"27\", \"goal\": \"accuracy_max\", \"run_name\": \"StandardScalerWrapper, RandomForest\", \"run_properties\": \"<azureml.automl.runtime.shared.model_wrappers.StandardScalerWrapper object at 0x7fb2ec386f28\", \"primary_metric\": 0.99333333, \"best_metric\": 1.0}, {\"run_id\": \"AutoML_5081922a-2412-4d83-a31d-77432f1c34fc_28\", \"run_number\": 35, \"metric\": null, \"status\": \"Completed\", \"run_type\": \"azureml.scriptrun\", \"training_percent\": \"100\", \"start_time\": \"2021-01-31T18:05:48.002015Z\", \"end_time\": \"2021-01-31T18:06:36.21467Z\", \"created_time\": \"2021-01-31T18:05:36.38206Z\", \"created_time_dt\": \"2021-01-31T18:05:36.38206Z\", \"duration\": \"0:00:59\", \"iteration\": \"28\", \"goal\": \"accuracy_max\", \"run_name\": \"SparseNormalizer, RandomForest\", \"run_properties\": \"<azureml.automl.runtime.shared.model_wrappers.SparseNormalizer object at 0x7f20548d76a0\", \"primary_metric\": 0.90666667, \"best_metric\": 1.0}, {\"run_id\": \"AutoML_5081922a-2412-4d83-a31d-77432f1c34fc_29\", \"run_number\": 36, \"metric\": null, \"status\": \"Completed\", \"run_type\": \"azureml.scriptrun\", \"training_percent\": \"100\", \"start_time\": \"2021-01-31T18:06:50.756246Z\", \"end_time\": \"2021-01-31T18:07:46.199856Z\", \"created_time\": \"2021-01-31T18:06:38.309485Z\", \"created_time_dt\": \"2021-01-31T18:06:38.309485Z\", \"duration\": \"0:01:07\", \"iteration\": \"29\", \"goal\": \"accuracy_max\", \"run_name\": \"StandardScalerWrapper, LightGBM\", \"run_properties\": \"<azureml.automl.runtime.shared.model_wrappers.StandardScalerWrapper object at 0x7f6d920a4390\", \"primary_metric\": 1.0, \"best_metric\": 1.0}, {\"run_id\": \"AutoML_5081922a-2412-4d83-a31d-77432f1c34fc_30\", \"run_number\": 37, \"metric\": null, \"status\": \"Completed\", \"run_type\": \"azureml.scriptrun\", \"training_percent\": \"100\", \"start_time\": \"2021-01-31T18:08:02.640141Z\", \"end_time\": \"2021-01-31T18:09:31.502565Z\", \"created_time\": \"2021-01-31T18:07:47.319306Z\", \"created_time_dt\": \"2021-01-31T18:07:47.319306Z\", \"duration\": \"0:01:44\", \"iteration\": \"30\", \"goal\": \"accuracy_max\", \"run_name\": \"VotingEnsemble\", \"run_properties\": \"classification_labels=None,\\n                              estimators=[('29',\\n                                           Pipeline(memory=None,\\n                                                    steps=[('standardscalerwrapper',\\n                                                            <azureml.automl.runtime.shared.model_wrappers.StandardScalerWrapper object at 0x7f3fe07f3940>\", \"primary_metric\": 1.0, \"best_metric\": 1.0}, {\"run_id\": \"AutoML_5081922a-2412-4d83-a31d-77432f1c34fc_31\", \"run_number\": 38, \"metric\": null, \"status\": \"Completed\", \"run_type\": \"azureml.scriptrun\", \"training_percent\": \"100\", \"start_time\": \"2021-01-31T18:09:43.279757Z\", \"end_time\": \"2021-01-31T18:11:10.097046Z\", \"created_time\": \"2021-01-31T18:09:32.563952Z\", \"created_time_dt\": \"2021-01-31T18:09:32.563952Z\", \"duration\": \"0:01:37\", \"iteration\": \"31\", \"goal\": \"accuracy_max\", \"run_name\": \"StackEnsemble\", \"run_properties\": \"base_learners=[('29',\\n                                        Pipeline(memory=None,\\n                                                 steps=[('standardscalerwrapper',\\n                                                         <azureml.automl.runtime.shared.model_wrappers.StandardScalerWrapper object at 0x7fe74462d550>\", \"primary_metric\": 1.0, \"best_metric\": 1.0}], \"children_metrics\": {\"categories\": [0], \"series\": {\"log_loss\": [{\"categories\": [\"0\", \"1\", \"2\", \"3\", \"4\", \"5\", \"6\", \"7\", \"8\", \"9\", \"10\", \"11\", \"12\", \"13\", \"14\", \"15\", \"16\", \"17\", \"18\", \"19\", \"20\", \"21\", \"22\", \"23\", \"24\", \"25\", \"26\", \"27\", \"28\", \"29\", \"30\", \"31\"], \"mode\": \"markers\", \"name\": \"log_loss\", \"stepped\": false, \"type\": \"scatter\", \"data\": [0.0043154666686800024, 0.043563048062122106, 0.01579430518543643, 0.04526722436743622, 0.032670118857116424, 0.0426621930042065, 0.019593240451803287, 0.5463092356251382, 0.5809952135499324, 0.16738205964707603, 0.3956323672260077, 0.1501414251040429, 0.07947453996394463, 0.30152003263348537, 0.5084383557383236, 0.4293372144074682, 0.2693070364129037, 0.16539768564336627, 0.2692586437081155, 0.26308543240054955, 0.2520187123191618, 0.10065189756410256, 0.38396195883693324, 0.09414239472920648, 0.2594355524509172, 0.8351756889093214, 0.041114273917180595, 0.05198562460470331, 0.21840088435212818, 0.06652440050818458, 0.05404873230708009, 0.8559646207459248]}, {\"categories\": [\"0\", \"1\", \"2\", \"3\", \"4\", \"5\", \"6\", \"7\", \"8\", \"9\", \"10\", \"11\", \"12\", \"13\", \"14\", \"15\", \"16\", \"17\", \"18\", \"19\", \"20\", \"21\", \"22\", \"23\", \"24\", \"25\", \"26\", \"27\", \"28\", \"29\", \"30\", \"31\"], \"mode\": \"lines\", \"name\": \"log_loss_min\", \"stepped\": true, \"type\": \"scatter\", \"data\": [0.0043154666686800024, 0.0043154666686800024, 0.0043154666686800024, 0.0043154666686800024, 0.0043154666686800024, 0.0043154666686800024, 0.0043154666686800024, 0.0043154666686800024, 0.0043154666686800024, 0.0043154666686800024, 0.0043154666686800024, 0.0043154666686800024, 0.0043154666686800024, 0.0043154666686800024, 0.0043154666686800024, 0.0043154666686800024, 0.0043154666686800024, 0.0043154666686800024, 0.0043154666686800024, 0.0043154666686800024, 0.0043154666686800024, 0.0043154666686800024, 0.0043154666686800024, 0.0043154666686800024, 0.0043154666686800024, 0.0043154666686800024, 0.0043154666686800024, 0.0043154666686800024, 0.0043154666686800024, 0.0043154666686800024, 0.0043154666686800024, 0.0043154666686800024]}], \"f1_score_weighted\": [{\"categories\": [\"0\", \"1\", \"2\", \"3\", \"4\", \"5\", \"6\", \"7\", \"8\", \"9\", \"10\", \"11\", \"12\", \"13\", \"14\", \"15\", \"16\", \"17\", \"18\", \"19\", \"20\", \"21\", \"22\", \"23\", \"24\", \"25\", \"26\", \"27\", \"28\", \"29\", \"30\", \"31\"], \"mode\": \"markers\", \"name\": \"f1_score_weighted\", \"stepped\": false, \"type\": \"scatter\", \"data\": [1.0, 0.9933166248955722, 1.0, 0.9933166248955722, 1.0, 1.0, 0.993295985060691, 0.8868584698461129, 0.8747674476702609, 0.9933638443935926, 0.986697177726926, 0.9932218506131549, 0.979407096171802, 0.8933358368726789, 0.9139870581938963, 0.9932705882352941, 0.9006044251406748, 0.9933638443935926, 0.9213344428264337, 0.9866598294542837, 0.986697177726926, 0.9933638443935926, 0.9083915586066617, 1.0, 0.9076835310783352, 0.986697177726926, 1.0, 0.993295985060691, 0.9066896817206415, 1.0, 1.0, 1.0]}, {\"categories\": [\"0\", \"1\", \"2\", \"3\", \"4\", \"5\", \"6\", \"7\", \"8\", \"9\", \"10\", \"11\", \"12\", \"13\", \"14\", \"15\", \"16\", \"17\", \"18\", \"19\", \"20\", \"21\", \"22\", \"23\", \"24\", \"25\", \"26\", \"27\", \"28\", \"29\", \"30\", \"31\"], \"mode\": \"lines\", \"name\": \"f1_score_weighted_max\", \"stepped\": true, \"type\": \"scatter\", \"data\": [1.0, 1.0, 1.0, 1.0, 1.0, 1.0, 1.0, 1.0, 1.0, 1.0, 1.0, 1.0, 1.0, 1.0, 1.0, 1.0, 1.0, 1.0, 1.0, 1.0, 1.0, 1.0, 1.0, 1.0, 1.0, 1.0, 1.0, 1.0, 1.0, 1.0, 1.0, 1.0]}], \"recall_score_micro\": [{\"categories\": [\"0\", \"1\", \"2\", \"3\", \"4\", \"5\", \"6\", \"7\", \"8\", \"9\", \"10\", \"11\", \"12\", \"13\", \"14\", \"15\", \"16\", \"17\", \"18\", \"19\", \"20\", \"21\", \"22\", \"23\", \"24\", \"25\", \"26\", \"27\", \"28\", \"29\", \"30\", \"31\"], \"mode\": \"markers\", \"name\": \"recall_score_micro\", \"stepped\": false, \"type\": \"scatter\", \"data\": [1.0, 0.9933333333333334, 1.0, 0.9933333333333334, 1.0, 1.0, 0.9933333333333334, 0.8866666666666667, 0.8733333333333333, 0.9933333333333334, 0.9866666666666667, 0.9933333333333334, 0.9800000000000001, 0.8933333333333333, 0.9133333333333333, 0.9933333333333334, 0.9, 0.9933333333333334, 0.9199999999999999, 0.9866666666666667, 0.9866666666666667, 0.9933333333333334, 0.9066666666666668, 1.0, 0.9066666666666666, 0.9866666666666667, 1.0, 0.9933333333333334, 0.9066666666666666, 1.0, 1.0, 1.0]}, {\"categories\": [\"0\", \"1\", \"2\", \"3\", \"4\", \"5\", \"6\", \"7\", \"8\", \"9\", \"10\", \"11\", \"12\", \"13\", \"14\", \"15\", \"16\", \"17\", \"18\", \"19\", \"20\", \"21\", \"22\", \"23\", \"24\", \"25\", \"26\", \"27\", \"28\", \"29\", \"30\", \"31\"], \"mode\": \"lines\", \"name\": \"recall_score_micro_max\", \"stepped\": true, \"type\": \"scatter\", \"data\": [1.0, 1.0, 1.0, 1.0, 1.0, 1.0, 1.0, 1.0, 1.0, 1.0, 1.0, 1.0, 1.0, 1.0, 1.0, 1.0, 1.0, 1.0, 1.0, 1.0, 1.0, 1.0, 1.0, 1.0, 1.0, 1.0, 1.0, 1.0, 1.0, 1.0, 1.0, 1.0]}], \"balanced_accuracy\": [{\"categories\": [\"0\", \"1\", \"2\", \"3\", \"4\", \"5\", \"6\", \"7\", \"8\", \"9\", \"10\", \"11\", \"12\", \"13\", \"14\", \"15\", \"16\", \"17\", \"18\", \"19\", \"20\", \"21\", \"22\", \"23\", \"24\", \"25\", \"26\", \"27\", \"28\", \"29\", \"30\", \"31\"], \"mode\": \"markers\", \"name\": \"balanced_accuracy\", \"stepped\": false, \"type\": \"scatter\", \"data\": [1.0, 0.9933333333333334, 1.0, 0.9933333333333334, 1.0, 1.0, 0.9925925925925926, 0.8864550264550264, 0.8752380952380951, 0.9944444444444445, 0.9877777777777779, 0.9904761904761905, 0.9735449735449734, 0.8942328042328043, 0.912962962962963, 0.9925925925925926, 0.9, 0.9944444444444445, 0.9262433862433863, 0.987037037037037, 0.9877777777777779, 0.9944444444444445, 0.9150264550264551, 1.0, 0.9114285714285714, 0.9877777777777779, 1.0, 0.9925925925925926, 0.9074603174603174, 1.0, 1.0, 1.0]}, {\"categories\": [\"0\", \"1\", \"2\", \"3\", \"4\", \"5\", \"6\", \"7\", \"8\", \"9\", \"10\", \"11\", \"12\", \"13\", \"14\", \"15\", \"16\", \"17\", \"18\", \"19\", \"20\", \"21\", \"22\", \"23\", \"24\", \"25\", \"26\", \"27\", \"28\", \"29\", \"30\", \"31\"], \"mode\": \"lines\", \"name\": \"balanced_accuracy_max\", \"stepped\": true, \"type\": \"scatter\", \"data\": [1.0, 1.0, 1.0, 1.0, 1.0, 1.0, 1.0, 1.0, 1.0, 1.0, 1.0, 1.0, 1.0, 1.0, 1.0, 1.0, 1.0, 1.0, 1.0, 1.0, 1.0, 1.0, 1.0, 1.0, 1.0, 1.0, 1.0, 1.0, 1.0, 1.0, 1.0, 1.0]}], \"AUC_micro\": [{\"categories\": [\"0\", \"1\", \"2\", \"3\", \"4\", \"5\", \"6\", \"7\", \"8\", \"9\", \"10\", \"11\", \"12\", \"13\", \"14\", \"15\", \"16\", \"17\", \"18\", \"19\", \"20\", \"21\", \"22\", \"23\", \"24\", \"25\", \"26\", \"27\", \"28\", \"29\", \"30\", \"31\"], \"mode\": \"markers\", \"name\": \"AUC_micro\", \"stepped\": false, \"type\": \"scatter\", \"data\": [1.0, 0.9986666666666666, 1.0, 0.9998888888888888, 1.0, 1.0, 0.9999444444444444, 0.9707777777777779, 0.9770000000000001, 0.9998888888888888, 0.9993333333333332, 0.9997777777777778, 0.9994444444444444, 0.979111111111111, 0.9873333333333333, 0.9991111111111112, 0.9867777777777776, 0.9998888888888888, 0.9774444444444444, 0.9993333333333332, 0.9994444444444444, 0.9998888888888888, 0.9802222222222223, 1.0, 0.9851111111111109, 0.999111111111111, 1.0, 0.9997777777777778, 0.9895555555555555, 1.0, 1.0, 1.0]}, {\"categories\": [\"0\", \"1\", \"2\", \"3\", \"4\", \"5\", \"6\", \"7\", \"8\", \"9\", \"10\", \"11\", \"12\", \"13\", \"14\", \"15\", \"16\", \"17\", \"18\", \"19\", \"20\", \"21\", \"22\", \"23\", \"24\", \"25\", \"26\", \"27\", \"28\", \"29\", \"30\", \"31\"], \"mode\": \"lines\", \"name\": \"AUC_micro_max\", \"stepped\": true, \"type\": \"scatter\", \"data\": [1.0, 1.0, 1.0, 1.0, 1.0, 1.0, 1.0, 1.0, 1.0, 1.0, 1.0, 1.0, 1.0, 1.0, 1.0, 1.0, 1.0, 1.0, 1.0, 1.0, 1.0, 1.0, 1.0, 1.0, 1.0, 1.0, 1.0, 1.0, 1.0, 1.0, 1.0, 1.0]}], \"f1_score_micro\": [{\"categories\": [\"0\", \"1\", \"2\", \"3\", \"4\", \"5\", \"6\", \"7\", \"8\", \"9\", \"10\", \"11\", \"12\", \"13\", \"14\", \"15\", \"16\", \"17\", \"18\", \"19\", \"20\", \"21\", \"22\", \"23\", \"24\", \"25\", \"26\", \"27\", \"28\", \"29\", \"30\", \"31\"], \"mode\": \"markers\", \"name\": \"f1_score_micro\", \"stepped\": false, \"type\": \"scatter\", \"data\": [1.0, 0.9933333333333334, 1.0, 0.9933333333333334, 1.0, 1.0, 0.9933333333333334, 0.8866666666666667, 0.8733333333333333, 0.9933333333333334, 0.9866666666666667, 0.9933333333333334, 0.9800000000000001, 0.8933333333333333, 0.9133333333333333, 0.9933333333333334, 0.9, 0.9933333333333334, 0.9199999999999999, 0.9866666666666667, 0.9866666666666667, 0.9933333333333334, 0.9066666666666668, 1.0, 0.9066666666666666, 0.9866666666666667, 1.0, 0.9933333333333334, 0.9066666666666666, 1.0, 1.0, 1.0]}, {\"categories\": [\"0\", \"1\", \"2\", \"3\", \"4\", \"5\", \"6\", \"7\", \"8\", \"9\", \"10\", \"11\", \"12\", \"13\", \"14\", \"15\", \"16\", \"17\", \"18\", \"19\", \"20\", \"21\", \"22\", \"23\", \"24\", \"25\", \"26\", \"27\", \"28\", \"29\", \"30\", \"31\"], \"mode\": \"lines\", \"name\": \"f1_score_micro_max\", \"stepped\": true, \"type\": \"scatter\", \"data\": [1.0, 1.0, 1.0, 1.0, 1.0, 1.0, 1.0, 1.0, 1.0, 1.0, 1.0, 1.0, 1.0, 1.0, 1.0, 1.0, 1.0, 1.0, 1.0, 1.0, 1.0, 1.0, 1.0, 1.0, 1.0, 1.0, 1.0, 1.0, 1.0, 1.0, 1.0, 1.0]}], \"f1_score_macro\": [{\"categories\": [\"0\", \"1\", \"2\", \"3\", \"4\", \"5\", \"6\", \"7\", \"8\", \"9\", \"10\", \"11\", \"12\", \"13\", \"14\", \"15\", \"16\", \"17\", \"18\", \"19\", \"20\", \"21\", \"22\", \"23\", \"24\", \"25\", \"26\", \"27\", \"28\", \"29\", \"30\", \"31\"], \"mode\": \"markers\", \"name\": \"f1_score_macro\", \"stepped\": false, \"type\": \"scatter\", \"data\": [1.0, 0.9933166248955722, 1.0, 0.9933166248955722, 1.0, 1.0, 0.9929038281979459, 0.8812011429540034, 0.8704812285374945, 0.9935926773455378, 0.9865751334858887, 0.9919732441471572, 0.976237161531279, 0.887285280022122, 0.9095779632441363, 0.9934117647058823, 0.8959887942432025, 0.9935926773455378, 0.918095678370278, 0.9864965055434837, 0.9865751334858887, 0.9935926773455378, 0.9072675650478853, 1.0, 0.9048898532207186, 0.9865751334858887, 1.0, 0.9929038281979459, 0.9031058037249988, 1.0, 1.0, 1.0]}, {\"categories\": [\"0\", \"1\", \"2\", \"3\", \"4\", \"5\", \"6\", \"7\", \"8\", \"9\", \"10\", \"11\", \"12\", \"13\", \"14\", \"15\", \"16\", \"17\", \"18\", \"19\", \"20\", \"21\", \"22\", \"23\", \"24\", \"25\", \"26\", \"27\", \"28\", \"29\", \"30\", \"31\"], \"mode\": \"lines\", \"name\": \"f1_score_macro_max\", \"stepped\": true, \"type\": \"scatter\", \"data\": [1.0, 1.0, 1.0, 1.0, 1.0, 1.0, 1.0, 1.0, 1.0, 1.0, 1.0, 1.0, 1.0, 1.0, 1.0, 1.0, 1.0, 1.0, 1.0, 1.0, 1.0, 1.0, 1.0, 1.0, 1.0, 1.0, 1.0, 1.0, 1.0, 1.0, 1.0, 1.0]}], \"weighted_accuracy\": [{\"categories\": [\"0\", \"1\", \"2\", \"3\", \"4\", \"5\", \"6\", \"7\", \"8\", \"9\", \"10\", \"11\", \"12\", \"13\", \"14\", \"15\", \"16\", \"17\", \"18\", \"19\", \"20\", \"21\", \"22\", \"23\", \"24\", \"25\", \"26\", \"27\", \"28\", \"29\", \"30\", \"31\"], \"mode\": \"markers\", \"name\": \"weighted_accuracy\", \"stepped\": false, \"type\": \"scatter\", \"data\": [1.0, 0.9933333333333334, 1.0, 0.9933333333333334, 1.0, 1.0, 0.9940397350993377, 0.8849834585125208, 0.8701484590046398, 0.9921568627450981, 0.9855343461888066, 0.9955414012738852, 0.9851225376471084, 0.8906734797439434, 0.9125408182154187, 0.9941176470588236, 0.8987374160598545, 0.9921568627450981, 0.9133161673922512, 0.9861965978444358, 0.9855343461888066, 0.9921568627450981, 0.8983592546908648, 1.0, 0.9012737243974213, 0.9855343461888066, 1.0, 0.9940397350993377, 0.9044584377732174, 1.0, 1.0, 1.0]}, {\"categories\": [\"0\", \"1\", \"2\", \"3\", \"4\", \"5\", \"6\", \"7\", \"8\", \"9\", \"10\", \"11\", \"12\", \"13\", \"14\", \"15\", \"16\", \"17\", \"18\", \"19\", \"20\", \"21\", \"22\", \"23\", \"24\", \"25\", \"26\", \"27\", \"28\", \"29\", \"30\", \"31\"], \"mode\": \"lines\", \"name\": \"weighted_accuracy_max\", \"stepped\": true, \"type\": \"scatter\", \"data\": [1.0, 1.0, 1.0, 1.0, 1.0, 1.0, 1.0, 1.0, 1.0, 1.0, 1.0, 1.0, 1.0, 1.0, 1.0, 1.0, 1.0, 1.0, 1.0, 1.0, 1.0, 1.0, 1.0, 1.0, 1.0, 1.0, 1.0, 1.0, 1.0, 1.0, 1.0, 1.0]}], \"accuracy\": [{\"categories\": [\"0\", \"1\", \"2\", \"3\", \"4\", \"5\", \"6\", \"7\", \"8\", \"9\", \"10\", \"11\", \"12\", \"13\", \"14\", \"15\", \"16\", \"17\", \"18\", \"19\", \"20\", \"21\", \"22\", \"23\", \"24\", \"25\", \"26\", \"27\", \"28\", \"29\", \"30\", \"31\"], \"mode\": \"markers\", \"name\": \"accuracy\", \"stepped\": false, \"type\": \"scatter\", \"data\": [1.0, 0.9933333333333334, 1.0, 0.9933333333333334, 1.0, 1.0, 0.9933333333333334, 0.8866666666666667, 0.8733333333333333, 0.9933333333333334, 0.9866666666666667, 0.9933333333333334, 0.9800000000000001, 0.8933333333333333, 0.9133333333333333, 0.9933333333333334, 0.9, 0.9933333333333334, 0.9199999999999999, 0.9866666666666667, 0.9866666666666667, 0.9933333333333334, 0.9066666666666668, 1.0, 0.9066666666666666, 0.9866666666666667, 1.0, 0.9933333333333334, 0.9066666666666666, 1.0, 1.0, 1.0]}, {\"categories\": [\"0\", \"1\", \"2\", \"3\", \"4\", \"5\", \"6\", \"7\", \"8\", \"9\", \"10\", \"11\", \"12\", \"13\", \"14\", \"15\", \"16\", \"17\", \"18\", \"19\", \"20\", \"21\", \"22\", \"23\", \"24\", \"25\", \"26\", \"27\", \"28\", \"29\", \"30\", \"31\"], \"mode\": \"lines\", \"name\": \"accuracy_max\", \"stepped\": true, \"type\": \"scatter\", \"data\": [1.0, 1.0, 1.0, 1.0, 1.0, 1.0, 1.0, 1.0, 1.0, 1.0, 1.0, 1.0, 1.0, 1.0, 1.0, 1.0, 1.0, 1.0, 1.0, 1.0, 1.0, 1.0, 1.0, 1.0, 1.0, 1.0, 1.0, 1.0, 1.0, 1.0, 1.0, 1.0]}], \"recall_score_macro\": [{\"categories\": [\"0\", \"1\", \"2\", \"3\", \"4\", \"5\", \"6\", \"7\", \"8\", \"9\", \"10\", \"11\", \"12\", \"13\", \"14\", \"15\", \"16\", \"17\", \"18\", \"19\", \"20\", \"21\", \"22\", \"23\", \"24\", \"25\", \"26\", \"27\", \"28\", \"29\", \"30\", \"31\"], \"mode\": \"markers\", \"name\": \"recall_score_macro\", \"stepped\": false, \"type\": \"scatter\", \"data\": [1.0, 0.9933333333333334, 1.0, 0.9933333333333334, 1.0, 1.0, 0.9925925925925926, 0.8864550264550264, 0.8752380952380951, 0.9944444444444445, 0.9877777777777779, 0.9904761904761905, 0.9735449735449734, 0.8942328042328043, 0.912962962962963, 0.9925925925925926, 0.9, 0.9944444444444445, 0.9262433862433863, 0.987037037037037, 0.9877777777777779, 0.9944444444444445, 0.9150264550264551, 1.0, 0.9114285714285714, 0.9877777777777779, 1.0, 0.9925925925925926, 0.9074603174603174, 1.0, 1.0, 1.0]}, {\"categories\": [\"0\", \"1\", \"2\", \"3\", \"4\", \"5\", \"6\", \"7\", \"8\", \"9\", \"10\", \"11\", \"12\", \"13\", \"14\", \"15\", \"16\", \"17\", \"18\", \"19\", \"20\", \"21\", \"22\", \"23\", \"24\", \"25\", \"26\", \"27\", \"28\", \"29\", \"30\", \"31\"], \"mode\": \"lines\", \"name\": \"recall_score_macro_max\", \"stepped\": true, \"type\": \"scatter\", \"data\": [1.0, 1.0, 1.0, 1.0, 1.0, 1.0, 1.0, 1.0, 1.0, 1.0, 1.0, 1.0, 1.0, 1.0, 1.0, 1.0, 1.0, 1.0, 1.0, 1.0, 1.0, 1.0, 1.0, 1.0, 1.0, 1.0, 1.0, 1.0, 1.0, 1.0, 1.0, 1.0]}], \"precision_score_micro\": [{\"categories\": [\"0\", \"1\", \"2\", \"3\", \"4\", \"5\", \"6\", \"7\", \"8\", \"9\", \"10\", \"11\", \"12\", \"13\", \"14\", \"15\", \"16\", \"17\", \"18\", \"19\", \"20\", \"21\", \"22\", \"23\", \"24\", \"25\", \"26\", \"27\", \"28\", \"29\", \"30\", \"31\"], \"mode\": \"markers\", \"name\": \"precision_score_micro\", \"stepped\": false, \"type\": \"scatter\", \"data\": [1.0, 0.9933333333333334, 1.0, 0.9933333333333334, 1.0, 1.0, 0.9933333333333334, 0.8866666666666667, 0.8733333333333333, 0.9933333333333334, 0.9866666666666667, 0.9933333333333334, 0.9800000000000001, 0.8933333333333333, 0.9133333333333333, 0.9933333333333334, 0.9, 0.9933333333333334, 0.9199999999999999, 0.9866666666666667, 0.9866666666666667, 0.9933333333333334, 0.9066666666666668, 1.0, 0.9066666666666666, 0.9866666666666667, 1.0, 0.9933333333333334, 0.9066666666666666, 1.0, 1.0, 1.0]}, {\"categories\": [\"0\", \"1\", \"2\", \"3\", \"4\", \"5\", \"6\", \"7\", \"8\", \"9\", \"10\", \"11\", \"12\", \"13\", \"14\", \"15\", \"16\", \"17\", \"18\", \"19\", \"20\", \"21\", \"22\", \"23\", \"24\", \"25\", \"26\", \"27\", \"28\", \"29\", \"30\", \"31\"], \"mode\": \"lines\", \"name\": \"precision_score_micro_max\", \"stepped\": true, \"type\": \"scatter\", \"data\": [1.0, 1.0, 1.0, 1.0, 1.0, 1.0, 1.0, 1.0, 1.0, 1.0, 1.0, 1.0, 1.0, 1.0, 1.0, 1.0, 1.0, 1.0, 1.0, 1.0, 1.0, 1.0, 1.0, 1.0, 1.0, 1.0, 1.0, 1.0, 1.0, 1.0, 1.0, 1.0]}], \"AUC_macro\": [{\"categories\": [\"0\", \"1\", \"2\", \"3\", \"4\", \"5\", \"6\", \"7\", \"8\", \"9\", \"10\", \"11\", \"12\", \"13\", \"14\", \"15\", \"16\", \"17\", \"18\", \"19\", \"20\", \"21\", \"22\", \"23\", \"24\", \"25\", \"26\", \"27\", \"28\", \"29\", \"30\", \"31\"], \"mode\": \"markers\", \"name\": \"AUC_macro\", \"stepped\": false, \"type\": \"scatter\", \"data\": [1.0, 0.9993333333333332, 1.0, 1.0, 1.0, 1.0, 1.0, 0.9689704530044919, 0.9756341448336109, 1.0, 0.9990299823633156, 1.0, 1.0, 0.9787448431868722, 0.9891521643278891, 0.9983245149911817, 0.9856548960969251, 1.0, 0.9741998989935681, 0.9986966490299825, 0.9993827160493828, 1.0, 0.9802559523809524, 1.0, 0.9830382977829583, 0.9993386243386244, 1.0, 0.9996569664902999, 0.991643508933364, 1.0, 1.0, 1.0]}, {\"categories\": [\"0\", \"1\", \"2\", \"3\", \"4\", \"5\", \"6\", \"7\", \"8\", \"9\", \"10\", \"11\", \"12\", \"13\", \"14\", \"15\", \"16\", \"17\", \"18\", \"19\", \"20\", \"21\", \"22\", \"23\", \"24\", \"25\", \"26\", \"27\", \"28\", \"29\", \"30\", \"31\"], \"mode\": \"lines\", \"name\": \"AUC_macro_max\", \"stepped\": true, \"type\": \"scatter\", \"data\": [1.0, 1.0, 1.0, 1.0, 1.0, 1.0, 1.0, 1.0, 1.0, 1.0, 1.0, 1.0, 1.0, 1.0, 1.0, 1.0, 1.0, 1.0, 1.0, 1.0, 1.0, 1.0, 1.0, 1.0, 1.0, 1.0, 1.0, 1.0, 1.0, 1.0, 1.0, 1.0]}], \"AUC_weighted\": [{\"categories\": [\"0\", \"1\", \"2\", \"3\", \"4\", \"5\", \"6\", \"7\", \"8\", \"9\", \"10\", \"11\", \"12\", \"13\", \"14\", \"15\", \"16\", \"17\", \"18\", \"19\", \"20\", \"21\", \"22\", \"23\", \"24\", \"25\", \"26\", \"27\", \"28\", \"29\", \"30\", \"31\"], \"mode\": \"markers\", \"name\": \"AUC_weighted\", \"stepped\": false, \"type\": \"scatter\", \"data\": [1.0, 0.9993333333333332, 1.0, 1.0, 1.0, 1.0, 1.0, 0.971218237320354, 0.9780563546547528, 1.0, 0.9989417989417989, 1.0, 1.0, 0.979768921095008, 0.9909115194386933, 0.9983068783068783, 0.9870757994018865, 1.0, 0.9760393314203384, 0.9986084656084655, 0.9992592592592592, 1.0, 0.9809636243386244, 1.0, 0.9843082555422372, 0.9993121693121694, 1.0, 0.9996746031746031, 0.9921844950540603, 1.0, 1.0, 1.0]}, {\"categories\": [\"0\", \"1\", \"2\", \"3\", \"4\", \"5\", \"6\", \"7\", \"8\", \"9\", \"10\", \"11\", \"12\", \"13\", \"14\", \"15\", \"16\", \"17\", \"18\", \"19\", \"20\", \"21\", \"22\", \"23\", \"24\", \"25\", \"26\", \"27\", \"28\", \"29\", \"30\", \"31\"], \"mode\": \"lines\", \"name\": \"AUC_weighted_max\", \"stepped\": true, \"type\": \"scatter\", \"data\": [1.0, 1.0, 1.0, 1.0, 1.0, 1.0, 1.0, 1.0, 1.0, 1.0, 1.0, 1.0, 1.0, 1.0, 1.0, 1.0, 1.0, 1.0, 1.0, 1.0, 1.0, 1.0, 1.0, 1.0, 1.0, 1.0, 1.0, 1.0, 1.0, 1.0, 1.0, 1.0]}], \"precision_score_weighted\": [{\"categories\": [\"0\", \"1\", \"2\", \"3\", \"4\", \"5\", \"6\", \"7\", \"8\", \"9\", \"10\", \"11\", \"12\", \"13\", \"14\", \"15\", \"16\", \"17\", \"18\", \"19\", \"20\", \"21\", \"22\", \"23\", \"24\", \"25\", \"26\", \"27\", \"28\", \"29\", \"30\", \"31\"], \"mode\": \"markers\", \"name\": \"precision_score_weighted\", \"stepped\": false, \"type\": \"scatter\", \"data\": [1.0, 0.9939393939393939, 1.0, 0.9939393939393939, 1.0, 1.0, 0.9939393939393939, 0.8998008658008658, 0.8885916860916862, 0.994, 0.9880000000000001, 0.993888888888889, 0.9826573426573427, 0.9055651755651756, 0.9233789173789173, 0.9938461538461538, 0.9099115514115514, 0.994, 0.9365345765345765, 0.9879393939393939, 0.9880000000000001, 0.994, 0.9226100751100752, 1.0, 0.9219133644133644, 0.9880000000000001, 1.0, 0.9939393939393939, 0.9192650867650867, 1.0, 1.0, 1.0]}, {\"categories\": [\"0\", \"1\", \"2\", \"3\", \"4\", \"5\", \"6\", \"7\", \"8\", \"9\", \"10\", \"11\", \"12\", \"13\", \"14\", \"15\", \"16\", \"17\", \"18\", \"19\", \"20\", \"21\", \"22\", \"23\", \"24\", \"25\", \"26\", \"27\", \"28\", \"29\", \"30\", \"31\"], \"mode\": \"lines\", \"name\": \"precision_score_weighted_max\", \"stepped\": true, \"type\": \"scatter\", \"data\": [1.0, 1.0, 1.0, 1.0, 1.0, 1.0, 1.0, 1.0, 1.0, 1.0, 1.0, 1.0, 1.0, 1.0, 1.0, 1.0, 1.0, 1.0, 1.0, 1.0, 1.0, 1.0, 1.0, 1.0, 1.0, 1.0, 1.0, 1.0, 1.0, 1.0, 1.0, 1.0]}], \"precision_score_macro\": [{\"categories\": [\"0\", \"1\", \"2\", \"3\", \"4\", \"5\", \"6\", \"7\", \"8\", \"9\", \"10\", \"11\", \"12\", \"13\", \"14\", \"15\", \"16\", \"17\", \"18\", \"19\", \"20\", \"21\", \"22\", \"23\", \"24\", \"25\", \"26\", \"27\", \"28\", \"29\", \"30\", \"31\"], \"mode\": \"markers\", \"name\": \"precision_score_macro\", \"stepped\": false, \"type\": \"scatter\", \"data\": [1.0, 0.9939393939393939, 1.0, 0.9939393939393939, 1.0, 1.0, 0.9939393939393939, 0.8895863395863396, 0.8785483035483036, 0.9933333333333334, 0.9866666666666667, 0.9944444444444445, 0.9836829836829837, 0.8926839826839827, 0.9153561253561253, 0.9948717948717949, 0.9011408961408961, 0.9933333333333334, 0.924076664076664, 0.9872727272727273, 0.9866666666666667, 0.9933333333333334, 0.9124669774669775, 1.0, 0.9118760868760869, 0.9866666666666667, 1.0, 0.9939393939393939, 0.9125550375550375, 1.0, 1.0, 1.0]}, {\"categories\": [\"0\", \"1\", \"2\", \"3\", \"4\", \"5\", \"6\", \"7\", \"8\", \"9\", \"10\", \"11\", \"12\", \"13\", \"14\", \"15\", \"16\", \"17\", \"18\", \"19\", \"20\", \"21\", \"22\", \"23\", \"24\", \"25\", \"26\", \"27\", \"28\", \"29\", \"30\", \"31\"], \"mode\": \"lines\", \"name\": \"precision_score_macro_max\", \"stepped\": true, \"type\": \"scatter\", \"data\": [1.0, 1.0, 1.0, 1.0, 1.0, 1.0, 1.0, 1.0, 1.0, 1.0, 1.0, 1.0, 1.0, 1.0, 1.0, 1.0, 1.0, 1.0, 1.0, 1.0, 1.0, 1.0, 1.0, 1.0, 1.0, 1.0, 1.0, 1.0, 1.0, 1.0, 1.0, 1.0]}], \"average_precision_score_macro\": [{\"categories\": [\"0\", \"1\", \"2\", \"3\", \"4\", \"5\", \"6\", \"7\", \"8\", \"9\", \"10\", \"11\", \"12\", \"13\", \"14\", \"15\", \"16\", \"17\", \"18\", \"19\", \"20\", \"21\", \"22\", \"23\", \"24\", \"25\", \"26\", \"27\", \"28\", \"29\", \"30\", \"31\"], \"mode\": \"markers\", \"name\": \"average_precision_score_macro\", \"stepped\": false, \"type\": \"scatter\", \"data\": [1.0, 0.9982828282828283, 1.0, 1.0, 1.0, 1.0, 1.0, 0.9340573356684467, 0.9604005408603914, 1.0, 0.9984656084656084, 1.0, 1.0, 0.963226169063694, 0.9819455224221306, 0.9972578347578347, 0.9737202157043428, 1.0, 0.9516763175373795, 0.9978595478595478, 0.9992063492063492, 1.0, 0.9588287520827203, 1.0, 0.9708360749462523, 0.9988319088319088, 1.0, 0.9986531986531986, 0.9842229299213425, 1.0, 1.0, 1.0]}, {\"categories\": [\"0\", \"1\", \"2\", \"3\", \"4\", \"5\", \"6\", \"7\", \"8\", \"9\", \"10\", \"11\", \"12\", \"13\", \"14\", \"15\", \"16\", \"17\", \"18\", \"19\", \"20\", \"21\", \"22\", \"23\", \"24\", \"25\", \"26\", \"27\", \"28\", \"29\", \"30\", \"31\"], \"mode\": \"lines\", \"name\": \"average_precision_score_macro_max\", \"stepped\": true, \"type\": \"scatter\", \"data\": [1.0, 1.0, 1.0, 1.0, 1.0, 1.0, 1.0, 1.0, 1.0, 1.0, 1.0, 1.0, 1.0, 1.0, 1.0, 1.0, 1.0, 1.0, 1.0, 1.0, 1.0, 1.0, 1.0, 1.0, 1.0, 1.0, 1.0, 1.0, 1.0, 1.0, 1.0, 1.0]}], \"matthews_correlation\": [{\"categories\": [\"0\", \"1\", \"2\", \"3\", \"4\", \"5\", \"6\", \"7\", \"8\", \"9\", \"10\", \"11\", \"12\", \"13\", \"14\", \"15\", \"16\", \"17\", \"18\", \"19\", \"20\", \"21\", \"22\", \"23\", \"24\", \"25\", \"26\", \"27\", \"28\", \"29\", \"30\", \"31\"], \"mode\": \"markers\", \"name\": \"matthews_correlation\", \"stepped\": false, \"type\": \"scatter\", \"data\": [1.0, 0.9903174605388407, 1.0, 0.9903174605388407, 1.0, 1.0, 0.9902695276680291, 0.8350589419007743, 0.8151368011125715, 0.9902695276680291, 0.9805705310125108, 0.9900242484975663, 0.9707967872657424, 0.8450063347206834, 0.8733132179038143, 0.9901738621326622, 0.8531394113170958, 0.9902695276680291, 0.8869520783411431, 0.9805390553360581, 0.9805705310125108, 0.9902695276680291, 0.8662258073743597, 1.0, 0.8663549999389767, 0.9805705310125108, 1.0, 0.9902695276680291, 0.8652840913225408, 1.0, 1.0, 1.0]}, {\"categories\": [\"0\", \"1\", \"2\", \"3\", \"4\", \"5\", \"6\", \"7\", \"8\", \"9\", \"10\", \"11\", \"12\", \"13\", \"14\", \"15\", \"16\", \"17\", \"18\", \"19\", \"20\", \"21\", \"22\", \"23\", \"24\", \"25\", \"26\", \"27\", \"28\", \"29\", \"30\", \"31\"], \"mode\": \"lines\", \"name\": \"matthews_correlation_max\", \"stepped\": true, \"type\": \"scatter\", \"data\": [1.0, 1.0, 1.0, 1.0, 1.0, 1.0, 1.0, 1.0, 1.0, 1.0, 1.0, 1.0, 1.0, 1.0, 1.0, 1.0, 1.0, 1.0, 1.0, 1.0, 1.0, 1.0, 1.0, 1.0, 1.0, 1.0, 1.0, 1.0, 1.0, 1.0, 1.0, 1.0]}], \"average_precision_score_weighted\": [{\"categories\": [\"0\", \"1\", \"2\", \"3\", \"4\", \"5\", \"6\", \"7\", \"8\", \"9\", \"10\", \"11\", \"12\", \"13\", \"14\", \"15\", \"16\", \"17\", \"18\", \"19\", \"20\", \"21\", \"22\", \"23\", \"24\", \"25\", \"26\", \"27\", \"28\", \"29\", \"30\", \"31\"], \"mode\": \"markers\", \"name\": \"average_precision_score_weighted\", \"stepped\": false, \"type\": \"scatter\", \"data\": [1.0, 0.9982828282828283, 1.0, 1.0, 1.0, 1.0, 1.0, 0.9387317312317311, 0.9648277006218183, 1.0, 0.9983809523809523, 1.0, 1.0, 0.9668154404797628, 0.984807474202211, 0.9972649572649572, 0.9769848484848485, 1.0, 0.9563787651117373, 0.9977748917748919, 0.9990476190476191, 1.0, 0.963459484959485, 1.0, 0.9735165868989398, 0.9988205128205128, 1.0, 0.9987272727272728, 0.9856332186332187, 1.0, 1.0, 1.0]}, {\"categories\": [\"0\", \"1\", \"2\", \"3\", \"4\", \"5\", \"6\", \"7\", \"8\", \"9\", \"10\", \"11\", \"12\", \"13\", \"14\", \"15\", \"16\", \"17\", \"18\", \"19\", \"20\", \"21\", \"22\", \"23\", \"24\", \"25\", \"26\", \"27\", \"28\", \"29\", \"30\", \"31\"], \"mode\": \"lines\", \"name\": \"average_precision_score_weighted_max\", \"stepped\": true, \"type\": \"scatter\", \"data\": [1.0, 1.0, 1.0, 1.0, 1.0, 1.0, 1.0, 1.0, 1.0, 1.0, 1.0, 1.0, 1.0, 1.0, 1.0, 1.0, 1.0, 1.0, 1.0, 1.0, 1.0, 1.0, 1.0, 1.0, 1.0, 1.0, 1.0, 1.0, 1.0, 1.0, 1.0, 1.0]}], \"norm_macro_recall\": [{\"categories\": [\"0\", \"1\", \"2\", \"3\", \"4\", \"5\", \"6\", \"7\", \"8\", \"9\", \"10\", \"11\", \"12\", \"13\", \"14\", \"15\", \"16\", \"17\", \"18\", \"19\", \"20\", \"21\", \"22\", \"23\", \"24\", \"25\", \"26\", \"27\", \"28\", \"29\", \"30\", \"31\"], \"mode\": \"markers\", \"name\": \"norm_macro_recall\", \"stepped\": false, \"type\": \"scatter\", \"data\": [1.0, 0.9899999999999999, 1.0, 0.9899999999999999, 1.0, 1.0, 0.9888888888888889, 0.8296825396825396, 0.8128571428571426, 0.9916666666666666, 0.9816666666666667, 0.9857142857142858, 0.9603174603174601, 0.8413492063492061, 0.8694444444444442, 0.9888888888888889, 0.8499999999999999, 0.9916666666666666, 0.8893650793650792, 0.9805555555555555, 0.9816666666666667, 0.9916666666666666, 0.8725396825396825, 1.0, 0.8671428571428569, 0.9816666666666667, 1.0, 0.9888888888888889, 0.8611904761904761, 1.0, 1.0, 1.0]}, {\"categories\": [\"0\", \"1\", \"2\", \"3\", \"4\", \"5\", \"6\", \"7\", \"8\", \"9\", \"10\", \"11\", \"12\", \"13\", \"14\", \"15\", \"16\", \"17\", \"18\", \"19\", \"20\", \"21\", \"22\", \"23\", \"24\", \"25\", \"26\", \"27\", \"28\", \"29\", \"30\", \"31\"], \"mode\": \"lines\", \"name\": \"norm_macro_recall_max\", \"stepped\": true, \"type\": \"scatter\", \"data\": [1.0, 1.0, 1.0, 1.0, 1.0, 1.0, 1.0, 1.0, 1.0, 1.0, 1.0, 1.0, 1.0, 1.0, 1.0, 1.0, 1.0, 1.0, 1.0, 1.0, 1.0, 1.0, 1.0, 1.0, 1.0, 1.0, 1.0, 1.0, 1.0, 1.0, 1.0, 1.0]}], \"average_precision_score_micro\": [{\"categories\": [\"0\", \"1\", \"2\", \"3\", \"4\", \"5\", \"6\", \"7\", \"8\", \"9\", \"10\", \"11\", \"12\", \"13\", \"14\", \"15\", \"16\", \"17\", \"18\", \"19\", \"20\", \"21\", \"22\", \"23\", \"24\", \"25\", \"26\", \"27\", \"28\", \"29\", \"30\", \"31\"], \"mode\": \"markers\", \"name\": \"average_precision_score_micro\", \"stepped\": false, \"type\": \"scatter\", \"data\": [1.0, 0.9972785457176261, 1.0, 0.9997849462365591, 1.0, 1.0, 0.9997849462365591, 0.942520028408041, 0.9591239653310559, 0.9997849462365591, 0.9987784102888467, 0.9995627240143369, 0.9989381720430108, 0.9618580011296329, 0.9771184554691608, 0.9983574165298303, 0.9756560157763736, 0.9997849462365591, 0.9523597284535137, 0.998734441186054, 0.9990006325110687, 0.9997849462365591, 0.9617618285172764, 1.0, 0.972217135505298, 0.9983881208397337, 1.0, 0.9993611111111111, 0.9805449226531294, 1.0, 1.0, 1.0]}, {\"categories\": [\"0\", \"1\", \"2\", \"3\", \"4\", \"5\", \"6\", \"7\", \"8\", \"9\", \"10\", \"11\", \"12\", \"13\", \"14\", \"15\", \"16\", \"17\", \"18\", \"19\", \"20\", \"21\", \"22\", \"23\", \"24\", \"25\", \"26\", \"27\", \"28\", \"29\", \"30\", \"31\"], \"mode\": \"lines\", \"name\": \"average_precision_score_micro_max\", \"stepped\": true, \"type\": \"scatter\", \"data\": [1.0, 1.0, 1.0, 1.0, 1.0, 1.0, 1.0, 1.0, 1.0, 1.0, 1.0, 1.0, 1.0, 1.0, 1.0, 1.0, 1.0, 1.0, 1.0, 1.0, 1.0, 1.0, 1.0, 1.0, 1.0, 1.0, 1.0, 1.0, 1.0, 1.0, 1.0, 1.0]}], \"recall_score_weighted\": [{\"categories\": [\"0\", \"1\", \"2\", \"3\", \"4\", \"5\", \"6\", \"7\", \"8\", \"9\", \"10\", \"11\", \"12\", \"13\", \"14\", \"15\", \"16\", \"17\", \"18\", \"19\", \"20\", \"21\", \"22\", \"23\", \"24\", \"25\", \"26\", \"27\", \"28\", \"29\", \"30\", \"31\"], \"mode\": \"markers\", \"name\": \"recall_score_weighted\", \"stepped\": false, \"type\": \"scatter\", \"data\": [1.0, 0.9933333333333334, 1.0, 0.9933333333333334, 1.0, 1.0, 0.9933333333333334, 0.8866666666666667, 0.8733333333333333, 0.9933333333333334, 0.9866666666666667, 0.9933333333333334, 0.9800000000000001, 0.8933333333333333, 0.9133333333333333, 0.9933333333333334, 0.9, 0.9933333333333334, 0.9199999999999999, 0.9866666666666667, 0.9866666666666667, 0.9933333333333334, 0.9066666666666668, 1.0, 0.9066666666666666, 0.9866666666666667, 1.0, 0.9933333333333334, 0.9066666666666666, 1.0, 1.0, 1.0]}, {\"categories\": [\"0\", \"1\", \"2\", \"3\", \"4\", \"5\", \"6\", \"7\", \"8\", \"9\", \"10\", \"11\", \"12\", \"13\", \"14\", \"15\", \"16\", \"17\", \"18\", \"19\", \"20\", \"21\", \"22\", \"23\", \"24\", \"25\", \"26\", \"27\", \"28\", \"29\", \"30\", \"31\"], \"mode\": \"lines\", \"name\": \"recall_score_weighted_max\", \"stepped\": true, \"type\": \"scatter\", \"data\": [1.0, 1.0, 1.0, 1.0, 1.0, 1.0, 1.0, 1.0, 1.0, 1.0, 1.0, 1.0, 1.0, 1.0, 1.0, 1.0, 1.0, 1.0, 1.0, 1.0, 1.0, 1.0, 1.0, 1.0, 1.0, 1.0, 1.0, 1.0, 1.0, 1.0, 1.0, 1.0]}]}, \"metricName\": null, \"primaryMetricName\": \"accuracy\", \"showLegend\": false}, \"run_metrics\": [{\"name\": \"experiment_status\", \"run_id\": \"AutoML_5081922a-2412-4d83-a31d-77432f1c34fc\", \"categories\": [0, 1, 2, 3, 4, 5, 6, 7, 8, 9, 10, 11, 12, 13], \"series\": [{\"data\": [\"DatasetEvaluation\", \"FeaturesGeneration\", \"DatasetFeaturization\", \"DatasetFeaturizationCompleted\", \"DatasetCrossValidationSplit\", \"ModelSelection\", \"BestRunExplainModel\", \"ModelExplanationDataSetSetup\", \"PickSurrogateModel\", \"EngineeredFeatureExplanations\", \"EngineeredFeatureExplanations\", \"RawFeaturesExplanations\", \"RawFeaturesExplanations\", \"BestRunExplainModel\"]}]}, {\"name\": \"experiment_status_description\", \"run_id\": \"AutoML_5081922a-2412-4d83-a31d-77432f1c34fc\", \"categories\": [0, 1, 2, 3, 4, 5, 6, 7, 8, 9, 10, 11, 12, 13], \"series\": [{\"data\": [\"Gathering dataset statistics.\", \"Generating features for the dataset.\", \"Beginning to fit featurizers and featurize the dataset.\", \"Completed fit featurizers and featurizing the dataset.\", \"Generating individually featurized CV splits.\", \"Beginning model selection.\", \"Best run model explanations started\", \"Model explanations data setup completed\", \"Choosing LightGBM as the surrogate model for explanations\", \"Computation of engineered features started\", \"Computation of engineered features completed\", \"Computation of raw features started\", \"Computation of raw features completed\", \"Best run model explanations completed\"]}]}, {\"name\": \"AUC_macro\", \"run_id\": \"AutoML_5081922a-2412-4d83-a31d-77432f1c34fc\", \"categories\": [0], \"series\": [{\"data\": [1.0]}]}, {\"name\": \"f1_score_macro\", \"run_id\": \"AutoML_5081922a-2412-4d83-a31d-77432f1c34fc\", \"categories\": [0], \"series\": [{\"data\": [1.0]}]}, {\"name\": \"AUC_weighted\", \"run_id\": \"AutoML_5081922a-2412-4d83-a31d-77432f1c34fc\", \"categories\": [0], \"series\": [{\"data\": [1.0]}]}, {\"name\": \"average_precision_score_weighted\", \"run_id\": \"AutoML_5081922a-2412-4d83-a31d-77432f1c34fc\", \"categories\": [0], \"series\": [{\"data\": [1.0]}]}, {\"name\": \"recall_score_weighted\", \"run_id\": \"AutoML_5081922a-2412-4d83-a31d-77432f1c34fc\", \"categories\": [0], \"series\": [{\"data\": [1.0]}]}, {\"name\": \"average_precision_score_micro\", \"run_id\": \"AutoML_5081922a-2412-4d83-a31d-77432f1c34fc\", \"categories\": [0], \"series\": [{\"data\": [1.0]}]}, {\"name\": \"f1_score_micro\", \"run_id\": \"AutoML_5081922a-2412-4d83-a31d-77432f1c34fc\", \"categories\": [0], \"series\": [{\"data\": [1.0]}]}, {\"name\": \"precision_score_weighted\", \"run_id\": \"AutoML_5081922a-2412-4d83-a31d-77432f1c34fc\", \"categories\": [0], \"series\": [{\"data\": [1.0]}]}, {\"name\": \"accuracy\", \"run_id\": \"AutoML_5081922a-2412-4d83-a31d-77432f1c34fc\", \"categories\": [0], \"series\": [{\"data\": [1.0]}]}, {\"name\": \"balanced_accuracy\", \"run_id\": \"AutoML_5081922a-2412-4d83-a31d-77432f1c34fc\", \"categories\": [0], \"series\": [{\"data\": [1.0]}]}, {\"name\": \"recall_score_micro\", \"run_id\": \"AutoML_5081922a-2412-4d83-a31d-77432f1c34fc\", \"categories\": [0], \"series\": [{\"data\": [1.0]}]}, {\"name\": \"precision_score_macro\", \"run_id\": \"AutoML_5081922a-2412-4d83-a31d-77432f1c34fc\", \"categories\": [0], \"series\": [{\"data\": [1.0]}]}, {\"name\": \"log_loss\", \"run_id\": \"AutoML_5081922a-2412-4d83-a31d-77432f1c34fc\", \"categories\": [0], \"series\": [{\"data\": [0.06652440050818458]}]}, {\"name\": \"weighted_accuracy\", \"run_id\": \"AutoML_5081922a-2412-4d83-a31d-77432f1c34fc\", \"categories\": [0], \"series\": [{\"data\": [1.0]}]}, {\"name\": \"norm_macro_recall\", \"run_id\": \"AutoML_5081922a-2412-4d83-a31d-77432f1c34fc\", \"categories\": [0], \"series\": [{\"data\": [1.0]}]}, {\"name\": \"precision_score_micro\", \"run_id\": \"AutoML_5081922a-2412-4d83-a31d-77432f1c34fc\", \"categories\": [0], \"series\": [{\"data\": [1.0]}]}, {\"name\": \"matthews_correlation\", \"run_id\": \"AutoML_5081922a-2412-4d83-a31d-77432f1c34fc\", \"categories\": [0], \"series\": [{\"data\": [1.0]}]}, {\"name\": \"average_precision_score_macro\", \"run_id\": \"AutoML_5081922a-2412-4d83-a31d-77432f1c34fc\", \"categories\": [0], \"series\": [{\"data\": [1.0]}]}, {\"name\": \"recall_score_macro\", \"run_id\": \"AutoML_5081922a-2412-4d83-a31d-77432f1c34fc\", \"categories\": [0], \"series\": [{\"data\": [1.0]}]}, {\"name\": \"AUC_micro\", \"run_id\": \"AutoML_5081922a-2412-4d83-a31d-77432f1c34fc\", \"categories\": [0], \"series\": [{\"data\": [1.0]}]}, {\"name\": \"f1_score_weighted\", \"run_id\": \"AutoML_5081922a-2412-4d83-a31d-77432f1c34fc\", \"categories\": [0], \"series\": [{\"data\": [1.0]}]}], \"run_logs\": \"\\nRun is completed.\", \"graph\": {}, \"widget_settings\": {\"childWidgetDisplay\": \"popup\", \"send_telemetry\": false, \"log_level\": \"INFO\", \"sdk_version\": \"1.20.0\"}, \"loading\": false}"
     },
     "metadata": {},
     "output_type": "display_data"
    }
   ],
   "source": [
    "RunDetails(remote_run).show()\n"
   ]
  },
  {
   "cell_type": "markdown",
   "metadata": {},
   "source": [
    "## Best Model\n",
    "\n",
    "TODO: In the cell below, get the best model from the automl experiments and display all the properties of the model.\n",
    "\n"
   ]
  },
  {
   "cell_type": "code",
   "execution_count": null,
   "metadata": {},
   "outputs": [],
   "source": []
  },
  {
   "cell_type": "code",
   "execution_count": null,
   "metadata": {},
   "outputs": [],
   "source": []
  },
  {
   "cell_type": "code",
   "execution_count": 26,
   "metadata": {
    "gather": {
     "logged": 1598431425670
    },
    "jupyter": {
     "outputs_hidden": false,
     "source_hidden": false
    },
    "nteract": {
     "transient": {
      "deleting": false
     }
    }
   },
   "outputs": [
    {
     "name": "stdout",
     "output_type": "stream",
     "text": [
      "Run(Experiment: Detection,\n",
      "Id: AutoML_5081922a-2412-4d83-a31d-77432f1c34fc_29,\n",
      "Type: azureml.scriptrun,\n",
      "Status: Completed)\n",
      "Pipeline(memory=None,\n",
      "         steps=[('datatransformer',\n",
      "                 DataTransformer(enable_dnn=None, enable_feature_sweeping=None,\n",
      "                                 feature_sweeping_config=None,\n",
      "                                 feature_sweeping_timeout=None,\n",
      "                                 featurization_config=None, force_text_dnn=None,\n",
      "                                 is_cross_validation=None,\n",
      "                                 is_onnx_compatible=None, logger=None,\n",
      "                                 observer=None, task=None, working_dir=None)),\n",
      "                ('StandardScalerWrapper',\n",
      "                 <azureml...\n",
      "                                    learning_rate=0.08947473684210526,\n",
      "                                    max_bin=380, max_depth=6,\n",
      "                                    min_child_samples=14, min_child_weight=1,\n",
      "                                    min_split_gain=0.5263157894736842,\n",
      "                                    n_estimators=50, n_jobs=1, num_leaves=158,\n",
      "                                    objective=None, random_state=None,\n",
      "                                    reg_alpha=0.5263157894736842,\n",
      "                                    reg_lambda=0.21052631578947367, silent=True,\n",
      "                                    subsample=1, subsample_for_bin=200000,\n",
      "                                    subsample_freq=0, verbose=-10))],\n",
      "         verbose=False)\n",
      "Y_transformer(['LabelEncoder', LabelEncoder()])\n",
      "Fraud_detection\n"
     ]
    }
   ],
   "source": [
    "# Retrieve the best automl model.\n",
    "best_run, fitted_model = remote_run.get_output()\n",
    "parameter_values = best_run.get_details()['runDefinition']['arguments']\n",
    "print(best_run)\n",
    "print(fitted_model)\n",
    "\n",
    "#Register the model\n",
    "description ='Fraud detection classification '\n",
    "model_name='Fraud_detection'\n",
    "model_path='./'\n",
    "tags = None\n",
    "model = remote_run.register_model(model_name = model_name, description = description , tags = tags)\n",
    "print(remote_run.model_id)"
   ]
  },
  {
   "cell_type": "code",
   "execution_count": null,
   "metadata": {
    "gather": {
     "logged": 1598431426111
    },
    "jupyter": {
     "outputs_hidden": false,
     "source_hidden": false
    },
    "nteract": {
     "transient": {
      "deleting": false
     }
    }
   },
   "outputs": [],
   "source": [
    "#TODO: Save the best model"
   ]
  },
  {
   "cell_type": "markdown",
   "metadata": {},
   "source": [
    "## Model Deployment\n",
    "\n",
    "Remember you have to deploy only one of the two models you trained.. Perform the steps in the rest of this notebook only if you wish to deploy this model.\n",
    "\n",
    "TODO: In the cell below, register the model, create an inference config and deploy the model as a web service."
   ]
  },
  {
   "cell_type": "code",
   "execution_count": 27,
   "metadata": {
    "gather": {
     "logged": 1598431435189
    },
    "jupyter": {
     "outputs_hidden": false,
     "source_hidden": false
    },
    "nteract": {
     "transient": {
      "deleting": false
     }
    }
   },
   "outputs": [
    {
     "name": "stdout",
     "output_type": "stream",
     "text": [
      "Downloading from outputs/conda_env_v_1_0_0.yml to ./amlmodel/conda_env_v_1_0_0.yml ...\n",
      "Downloading from outputs/env_dependencies.json to ./amlmodel/env_dependencies.json ...\n",
      "Downloading from outputs/internal_cross_validated_models.pkl to ./amlmodel/internal_cross_validated_models.pkl ...\n",
      "Downloading from outputs/model.pkl to ./amlmodel/model.pkl ...\n",
      "Downloading from outputs/pipeline_graph.json to ./amlmodel/pipeline_graph.json ...\n",
      "Downloading from outputs/scoring_file_v_1_0_0.py to ./amlmodel/scoring_file_v_1_0_0.py ...\n"
     ]
    }
   ],
   "source": [
    "#Save the best model for the deployement\n",
    "import os\n",
    "os.makedirs('./amlmodel', exist_ok=True)\n",
    "\n",
    "best_run.download_file('/outputs/model.pkl',os.path.join('./amlmodel','automl_best_model_park.pkl'))\n",
    "\n",
    "for f in best_run.get_file_names():\n",
    "    if f.startswith('outputs'):\n",
    "        output_file_path = os.path.join('./amlmodel', f.split('/')[-1])\n",
    "        print(f'Downloading from {f} to {output_file_path} ...')\n",
    "        best_run.download_file(name=f, output_file_path=output_file_path)"
   ]
  },
  {
   "cell_type": "code",
   "execution_count": 29,
   "metadata": {},
   "outputs": [],
   "source": [
    "#Register the best model for the deployement\n",
    "\n",
    "model=best_run.register_model(\n",
    "            model_name = 'Fraud-Detection', \n",
    "            model_path = './outputs/model.pkl',\n",
    "            model_framework=Model.Framework.SCIKITLEARN,\n",
    "            description=''\n",
    ")"
   ]
  },
  {
   "cell_type": "code",
   "execution_count": 31,
   "metadata": {},
   "outputs": [],
   "source": [
    "# Download the conda environment file and define the environement\n",
    "best_run.download_file('outputs/conda_env_v_1_0_0.yml', 'conda_env.yml')\n",
    "myenv = Environment.from_conda_specification(name = 'myenv',\n",
    "                                             file_path = 'conda_env.yml')"
   ]
  },
  {
   "cell_type": "code",
   "execution_count": 33,
   "metadata": {},
   "outputs": [],
   "source": [
    "# download the scoring file produced by AutoML\n",
    "best_run.download_file('outputs/scoring_file_v_1_0_0.py', 'score_auto_park.py')\n",
    "\n",
    "# set inference config\n",
    "inference_config = InferenceConfig(entry_script= 'score_auto_park.py',\n",
    "                                    environment=myenv)"
   ]
  },
  {
   "cell_type": "code",
   "execution_count": 35,
   "metadata": {},
   "outputs": [],
   "source": [
    "# set Aci Webservice config\n",
    "aci_config = AciWebservice.deploy_configuration(cpu_cores=1, memory_gb=1, auth_enabled=True)"
   ]
  },
  {
   "cell_type": "code",
   "execution_count": 37,
   "metadata": {},
   "outputs": [
    {
     "ename": "WebserviceException",
     "evalue": "WebserviceException:\n\tMessage: Error, provided service name is invalid. It must only consist of lowercase letters, numbers, or dashes, start with a letter, end with a letter or number, and be between 3 and 32 characters long.\n\tInnerException None\n\tErrorResponse \n{\n    \"error\": {\n        \"message\": \"Error, provided service name is invalid. It must only consist of lowercase letters, numbers, or dashes, start with a letter, end with a letter or number, and be between 3 and 32 characters long.\"\n    }\n}",
     "output_type": "error",
     "traceback": [
      "\u001b[0;31m---------------------------------------------------------------------------\u001b[0m",
      "\u001b[0;31mWebserviceException\u001b[0m                       Traceback (most recent call last)",
      "\u001b[0;32m<ipython-input-37-fb11bc1e44a4>\u001b[0m in \u001b[0;36m<module>\u001b[0;34m\u001b[0m\n\u001b[1;32m      4\u001b[0m                        \u001b[0mmodels\u001b[0m\u001b[0;34m=\u001b[0m\u001b[0;34m[\u001b[0m\u001b[0mmodel\u001b[0m\u001b[0;34m]\u001b[0m\u001b[0;34m,\u001b[0m\u001b[0;34m\u001b[0m\u001b[0;34m\u001b[0m\u001b[0m\n\u001b[1;32m      5\u001b[0m                        \u001b[0minference_config\u001b[0m\u001b[0;34m=\u001b[0m\u001b[0minference_config\u001b[0m\u001b[0;34m,\u001b[0m\u001b[0;34m\u001b[0m\u001b[0;34m\u001b[0m\u001b[0m\n\u001b[0;32m----> 6\u001b[0;31m                        \u001b[0mdeployment_config\u001b[0m\u001b[0;34m=\u001b[0m\u001b[0maci_config\u001b[0m\u001b[0;34m,\u001b[0m\u001b[0;34m\u001b[0m\u001b[0;34m\u001b[0m\u001b[0m\n\u001b[0m\u001b[1;32m      7\u001b[0m                       )# overwrite=True\n",
      "\u001b[0;32m/anaconda/envs/azureml_py36/lib/python3.6/site-packages/azureml/core/model.py\u001b[0m in \u001b[0;36mdeploy\u001b[0;34m(workspace, name, models, inference_config, deployment_config, deployment_target, overwrite)\u001b[0m\n\u001b[1;32m   1585\u001b[0m         \u001b[0;32mfrom\u001b[0m \u001b[0mazureml\u001b[0m\u001b[0;34m.\u001b[0m\u001b[0mcore\u001b[0m\u001b[0;34m.\u001b[0m\u001b[0mwebservice\u001b[0m\u001b[0;34m.\u001b[0m\u001b[0mlocal\u001b[0m \u001b[0;32mimport\u001b[0m \u001b[0mLocalWebserviceDeploymentConfiguration\u001b[0m\u001b[0;34m\u001b[0m\u001b[0;34m\u001b[0m\u001b[0m\n\u001b[1;32m   1586\u001b[0m \u001b[0;34m\u001b[0m\u001b[0m\n\u001b[0;32m-> 1587\u001b[0;31m         \u001b[0mwebservice_name_validation\u001b[0m\u001b[0;34m(\u001b[0m\u001b[0mname\u001b[0m\u001b[0;34m)\u001b[0m\u001b[0;34m\u001b[0m\u001b[0;34m\u001b[0m\u001b[0m\n\u001b[0m\u001b[1;32m   1588\u001b[0m \u001b[0;34m\u001b[0m\u001b[0m\n\u001b[1;32m   1589\u001b[0m         \u001b[0;31m# Local webservice.\u001b[0m\u001b[0;34m\u001b[0m\u001b[0;34m\u001b[0m\u001b[0;34m\u001b[0m\u001b[0m\n",
      "\u001b[0;32m/anaconda/envs/azureml_py36/lib/python3.6/site-packages/azureml/_model_management/_util.py\u001b[0m in \u001b[0;36mwebservice_name_validation\u001b[0;34m(name)\u001b[0m\n\u001b[1;32m   1151\u001b[0m     \"\"\"\n\u001b[1;32m   1152\u001b[0m     \u001b[0;32mif\u001b[0m \u001b[0;32mnot\u001b[0m \u001b[0mre\u001b[0m\u001b[0;34m.\u001b[0m\u001b[0mfullmatch\u001b[0m\u001b[0;34m(\u001b[0m\u001b[0;34mr'^[a-z]([-a-z0-9]*[a-z0-9])?$'\u001b[0m\u001b[0;34m,\u001b[0m \u001b[0mname\u001b[0m\u001b[0;34m)\u001b[0m \u001b[0;32mor\u001b[0m \u001b[0mlen\u001b[0m\u001b[0;34m(\u001b[0m\u001b[0mname\u001b[0m\u001b[0;34m)\u001b[0m \u001b[0;34m<\u001b[0m \u001b[0;36m3\u001b[0m \u001b[0;32mor\u001b[0m \u001b[0mlen\u001b[0m\u001b[0;34m(\u001b[0m\u001b[0mname\u001b[0m\u001b[0;34m)\u001b[0m \u001b[0;34m>\u001b[0m \u001b[0;36m32\u001b[0m\u001b[0;34m:\u001b[0m\u001b[0;34m\u001b[0m\u001b[0;34m\u001b[0m\u001b[0m\n\u001b[0;32m-> 1153\u001b[0;31m         raise WebserviceException('Error, provided service name is invalid. It must only consist of lowercase '\n\u001b[0m\u001b[1;32m   1154\u001b[0m                                   \u001b[0;34m'letters, numbers, or dashes, start with a letter, end with a letter or number, '\u001b[0m\u001b[0;34m\u001b[0m\u001b[0;34m\u001b[0m\u001b[0m\n\u001b[1;32m   1155\u001b[0m                                   'and be between 3 and 32 characters long.')\n",
      "\u001b[0;31mWebserviceException\u001b[0m: WebserviceException:\n\tMessage: Error, provided service name is invalid. It must only consist of lowercase letters, numbers, or dashes, start with a letter, end with a letter or number, and be between 3 and 32 characters long.\n\tInnerException None\n\tErrorResponse \n{\n    \"error\": {\n        \"message\": \"Error, provided service name is invalid. It must only consist of lowercase letters, numbers, or dashes, start with a letter, end with a letter or number, and be between 3 and 32 characters long.\"\n    }\n}"
     ]
    }
   ],
   "source": [
    "# deploye the model as a web service \n",
    "service = Model.deploy(workspace=ws, \n",
    "                       name='Fraud-Detection', \n",
    "                       models=[model], \n",
    "                       inference_config=inference_config,\n",
    "                       deployment_config=aci_config,\n",
    "                      )# overwrite=True"
   ]
  },
  {
   "cell_type": "markdown",
   "metadata": {
    "collapsed": true,
    "gather": {
     "logged": 1598431657736
    },
    "jupyter": {
     "outputs_hidden": false,
     "source_hidden": false
    },
    "nteract": {
     "transient": {
      "deleting": false
     }
    }
   },
   "source": [
    "TODO: In the cell below, send a request to the web service you deployed to test it."
   ]
  },
  {
   "cell_type": "code",
   "execution_count": null,
   "metadata": {},
   "outputs": [],
   "source": []
  },
  {
   "cell_type": "code",
   "execution_count": null,
   "metadata": {},
   "outputs": [],
   "source": [
    "service"
   ]
  },
  {
   "cell_type": "code",
   "execution_count": null,
   "metadata": {},
   "outputs": [],
   "source": [
    "# wait for deployment to finish and display the scoring uri and swagger uri\n",
    "service.wait_for_deployment(show_output=True)\n",
    "\n",
    "print('Service state:')\n",
    "print(service.state)\n",
    "\n",
    "print('Scoring URI:')\n",
    "print(service.scoring_uri)\n",
    "\n",
    "print('Swagger URI:')\n",
    "print(service.swagger_uri)"
   ]
  },
  {
   "cell_type": "code",
   "execution_count": null,
   "metadata": {},
   "outputs": [],
   "source": [
    "x_df=df.sample(3)\n",
    "y_df = x_df.pop('')\n",
    "\n",
    "x_df['Column1'] = 0.0\n",
    "\n",
    "# convert the records to a json data file\n",
    "recored=x_df.to_dict(orient='records')\n",
    "\n",
    "scoring_json = json.dumps({'data': recored})\n",
    "print(scoring_json)"
   ]
  },
  {
   "cell_type": "code",
   "execution_count": null,
   "metadata": {},
   "outputs": [],
   "source": [
    "\n",
    "output = service.run(scoring_json)"
   ]
  },
  {
   "cell_type": "code",
   "execution_count": null,
   "metadata": {},
   "outputs": [],
   "source": [
    "print (output)"
   ]
  },
  {
   "cell_type": "code",
   "execution_count": null,
   "metadata": {},
   "outputs": [],
   "source": [
    "print(y_df)"
   ]
  },
  {
   "cell_type": "code",
   "execution_count": null,
   "metadata": {},
   "outputs": [],
   "source": [
    "print(service.get_logs())"
   ]
  },
  {
   "cell_type": "markdown",
   "metadata": {
    "collapsed": true,
    "gather": {
     "logged": 1598432765711
    },
    "jupyter": {
     "outputs_hidden": false,
     "source_hidden": false
    },
    "nteract": {
     "transient": {
      "deleting": false
     }
    }
   },
   "source": [
    "TODO: In the cell below, print the logs of the web service and delete the service"
   ]
  },
  {
   "cell_type": "code",
   "execution_count": null,
   "metadata": {
    "jupyter": {
     "outputs_hidden": false,
     "source_hidden": false
    },
    "nteract": {
     "transient": {
      "deleting": false
     }
    }
   },
   "outputs": [],
   "source": [
    "\n",
    "service.delete()\n",
    "aml_compute.delete()"
   ]
  }
 ],
 "metadata": {
  "kernel_info": {
   "name": "python3-azureml"
  },
  "kernelspec": {
   "display_name": "Python 3",
   "language": "python",
   "name": "python3"
  },
  "language_info": {
   "codemirror_mode": {
    "name": "ipython",
    "version": 3
   },
   "file_extension": ".py",
   "mimetype": "text/x-python",
   "name": "python",
   "nbconvert_exporter": "python",
   "pygments_lexer": "ipython3",
   "version": "3.6.9"
  },
  "nteract": {
   "version": "nteract-front-end@1.0.0"
  }
 },
 "nbformat": 4,
 "nbformat_minor": 2
}
